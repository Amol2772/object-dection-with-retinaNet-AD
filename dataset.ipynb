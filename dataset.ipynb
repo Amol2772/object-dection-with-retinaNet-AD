{
 "cells": [
  {
   "cell_type": "code",
   "execution_count": 1,
   "id": "c0f2c186-057c-4e2d-a3f2-297b7f24a66d",
   "metadata": {},
   "outputs": [
    {
     "name": "stderr",
     "output_type": "stream",
     "text": [
      "2024-07-24 11:49:14.172971: I tensorflow/core/platform/cpu_feature_guard.cc:182] This TensorFlow binary is optimized to use available CPU instructions in performance-critical operations.\n",
      "To enable the following instructions: AVX2 FMA, in other operations, rebuild TensorFlow with the appropriate compiler flags.\n"
     ]
    }
   ],
   "source": [
    "import pandas as pd\n",
    "import numpy as np\n",
    "import os \n",
    "import matplotlib.pyplot as plt\n",
    "import tensorflow as tf"
   ]
  },
  {
   "cell_type": "code",
   "execution_count": 2,
   "id": "3e0e4e52-38cc-4c44-af8d-5673699ee4fc",
   "metadata": {},
   "outputs": [
    {
     "data": {
      "text/html": [
       "<div>\n",
       "<style scoped>\n",
       "    .dataframe tbody tr th:only-of-type {\n",
       "        vertical-align: middle;\n",
       "    }\n",
       "\n",
       "    .dataframe tbody tr th {\n",
       "        vertical-align: top;\n",
       "    }\n",
       "\n",
       "    .dataframe thead th {\n",
       "        text-align: right;\n",
       "    }\n",
       "</style>\n",
       "<table border=\"1\" class=\"dataframe\">\n",
       "  <thead>\n",
       "    <tr style=\"text-align: right;\">\n",
       "      <th></th>\n",
       "      <th>label_name</th>\n",
       "      <th>bbox_x</th>\n",
       "      <th>bbox_y</th>\n",
       "      <th>bbox_width</th>\n",
       "      <th>bbox_height</th>\n",
       "      <th>image_name</th>\n",
       "      <th>image_width</th>\n",
       "      <th>image_height</th>\n",
       "    </tr>\n",
       "  </thead>\n",
       "  <tbody>\n",
       "    <tr>\n",
       "      <th>0</th>\n",
       "      <td>person</td>\n",
       "      <td>89</td>\n",
       "      <td>139</td>\n",
       "      <td>440</td>\n",
       "      <td>337</td>\n",
       "      <td>3100792031125.jpg</td>\n",
       "      <td>640</td>\n",
       "      <td>480</td>\n",
       "    </tr>\n",
       "    <tr>\n",
       "      <th>1</th>\n",
       "      <td>person</td>\n",
       "      <td>88</td>\n",
       "      <td>143</td>\n",
       "      <td>451</td>\n",
       "      <td>334</td>\n",
       "      <td>3100792031152.jpg</td>\n",
       "      <td>640</td>\n",
       "      <td>480</td>\n",
       "    </tr>\n",
       "    <tr>\n",
       "      <th>2</th>\n",
       "      <td>person</td>\n",
       "      <td>89</td>\n",
       "      <td>138</td>\n",
       "      <td>439</td>\n",
       "      <td>338</td>\n",
       "      <td>310079203118.jpg</td>\n",
       "      <td>640</td>\n",
       "      <td>480</td>\n",
       "    </tr>\n",
       "    <tr>\n",
       "      <th>3</th>\n",
       "      <td>person</td>\n",
       "      <td>87</td>\n",
       "      <td>144</td>\n",
       "      <td>453</td>\n",
       "      <td>333</td>\n",
       "      <td>3100792031206.jpg</td>\n",
       "      <td>640</td>\n",
       "      <td>480</td>\n",
       "    </tr>\n",
       "    <tr>\n",
       "      <th>4</th>\n",
       "      <td>person</td>\n",
       "      <td>91</td>\n",
       "      <td>144</td>\n",
       "      <td>438</td>\n",
       "      <td>333</td>\n",
       "      <td>3100792031233.jpg</td>\n",
       "      <td>640</td>\n",
       "      <td>480</td>\n",
       "    </tr>\n",
       "  </tbody>\n",
       "</table>\n",
       "</div>"
      ],
      "text/plain": [
       "  label_name  bbox_x  bbox_y  bbox_width  bbox_height         image_name  \\\n",
       "0     person      89     139         440          337  3100792031125.jpg   \n",
       "1     person      88     143         451          334  3100792031152.jpg   \n",
       "2     person      89     138         439          338   310079203118.jpg   \n",
       "3     person      87     144         453          333  3100792031206.jpg   \n",
       "4     person      91     144         438          333  3100792031233.jpg   \n",
       "\n",
       "   image_width  image_height  \n",
       "0          640           480  \n",
       "1          640           480  \n",
       "2          640           480  \n",
       "3          640           480  \n",
       "4          640           480  "
      ]
     },
     "execution_count": 2,
     "metadata": {},
     "output_type": "execute_result"
    }
   ],
   "source": [
    "df = pd.read_csv('DAiSEE/mkesenselabel.csv')\n",
    "df.head()"
   ]
  },
  {
   "cell_type": "code",
   "execution_count": 3,
   "id": "6ac5e58c-fba3-4825-bef1-ac50e442ccde",
   "metadata": {},
   "outputs": [
    {
     "data": {
      "text/html": [
       "<div>\n",
       "<style scoped>\n",
       "    .dataframe tbody tr th:only-of-type {\n",
       "        vertical-align: middle;\n",
       "    }\n",
       "\n",
       "    .dataframe tbody tr th {\n",
       "        vertical-align: top;\n",
       "    }\n",
       "\n",
       "    .dataframe thead th {\n",
       "        text-align: right;\n",
       "    }\n",
       "</style>\n",
       "<table border=\"1\" class=\"dataframe\">\n",
       "  <thead>\n",
       "    <tr style=\"text-align: right;\">\n",
       "      <th></th>\n",
       "      <th>label_name</th>\n",
       "      <th>bbox_x</th>\n",
       "      <th>bbox_y</th>\n",
       "      <th>bbox_width</th>\n",
       "      <th>bbox_height</th>\n",
       "      <th>image_name</th>\n",
       "    </tr>\n",
       "  </thead>\n",
       "  <tbody>\n",
       "    <tr>\n",
       "      <th>0</th>\n",
       "      <td>person</td>\n",
       "      <td>89</td>\n",
       "      <td>139</td>\n",
       "      <td>440</td>\n",
       "      <td>337</td>\n",
       "      <td>3100792031125.jpg</td>\n",
       "    </tr>\n",
       "    <tr>\n",
       "      <th>1</th>\n",
       "      <td>person</td>\n",
       "      <td>88</td>\n",
       "      <td>143</td>\n",
       "      <td>451</td>\n",
       "      <td>334</td>\n",
       "      <td>3100792031152.jpg</td>\n",
       "    </tr>\n",
       "    <tr>\n",
       "      <th>2</th>\n",
       "      <td>person</td>\n",
       "      <td>89</td>\n",
       "      <td>138</td>\n",
       "      <td>439</td>\n",
       "      <td>338</td>\n",
       "      <td>310079203118.jpg</td>\n",
       "    </tr>\n",
       "    <tr>\n",
       "      <th>3</th>\n",
       "      <td>person</td>\n",
       "      <td>87</td>\n",
       "      <td>144</td>\n",
       "      <td>453</td>\n",
       "      <td>333</td>\n",
       "      <td>3100792031206.jpg</td>\n",
       "    </tr>\n",
       "    <tr>\n",
       "      <th>4</th>\n",
       "      <td>person</td>\n",
       "      <td>91</td>\n",
       "      <td>144</td>\n",
       "      <td>438</td>\n",
       "      <td>333</td>\n",
       "      <td>3100792031233.jpg</td>\n",
       "    </tr>\n",
       "  </tbody>\n",
       "</table>\n",
       "</div>"
      ],
      "text/plain": [
       "  label_name  bbox_x  bbox_y  bbox_width  bbox_height         image_name\n",
       "0     person      89     139         440          337  3100792031125.jpg\n",
       "1     person      88     143         451          334  3100792031152.jpg\n",
       "2     person      89     138         439          338   310079203118.jpg\n",
       "3     person      87     144         453          333  3100792031206.jpg\n",
       "4     person      91     144         438          333  3100792031233.jpg"
      ]
     },
     "execution_count": 3,
     "metadata": {},
     "output_type": "execute_result"
    }
   ],
   "source": [
    "df.drop([\"image_width\",\"image_height\"],axis=1,inplace=True)\n",
    "df.head()"
   ]
  },
  {
   "cell_type": "code",
   "execution_count": 4,
   "id": "e5ad266e-8c93-43c9-a853-69bb320b758a",
   "metadata": {},
   "outputs": [
    {
     "data": {
      "text/plain": [
       "['Validation', 'Train', 'Test']"
      ]
     },
     "execution_count": 4,
     "metadata": {},
     "output_type": "execute_result"
    }
   ],
   "source": [
    "Dataset = [dirt for dirt in os.listdir(\"DAiSEE/DataSet/\") if os.path.isdir(os.path.join(\"DAiSEE/DataSet\",dirt))]\n",
    "Dataset"
   ]
  },
  {
   "cell_type": "code",
   "execution_count": 5,
   "id": "6deb1962-3d62-43fb-98e9-80e2c6faadc6",
   "metadata": {},
   "outputs": [
    {
     "data": {
      "text/html": [
       "<div>\n",
       "<style scoped>\n",
       "    .dataframe tbody tr th:only-of-type {\n",
       "        vertical-align: middle;\n",
       "    }\n",
       "\n",
       "    .dataframe tbody tr th {\n",
       "        vertical-align: top;\n",
       "    }\n",
       "\n",
       "    .dataframe thead th {\n",
       "        text-align: right;\n",
       "    }\n",
       "</style>\n",
       "<table border=\"1\" class=\"dataframe\">\n",
       "  <thead>\n",
       "    <tr style=\"text-align: right;\">\n",
       "      <th></th>\n",
       "      <th>ClipID</th>\n",
       "      <th>Boredom</th>\n",
       "      <th>Engagement</th>\n",
       "      <th>Confusion</th>\n",
       "      <th>Frustration</th>\n",
       "    </tr>\n",
       "  </thead>\n",
       "  <tbody>\n",
       "    <tr>\n",
       "      <th>0</th>\n",
       "      <td>1100011002.avi</td>\n",
       "      <td>0</td>\n",
       "      <td>2</td>\n",
       "      <td>0</td>\n",
       "      <td>0</td>\n",
       "    </tr>\n",
       "    <tr>\n",
       "      <th>1</th>\n",
       "      <td>1100011003.avi</td>\n",
       "      <td>0</td>\n",
       "      <td>2</td>\n",
       "      <td>0</td>\n",
       "      <td>0</td>\n",
       "    </tr>\n",
       "    <tr>\n",
       "      <th>2</th>\n",
       "      <td>1100011004.avi</td>\n",
       "      <td>0</td>\n",
       "      <td>3</td>\n",
       "      <td>0</td>\n",
       "      <td>0</td>\n",
       "    </tr>\n",
       "    <tr>\n",
       "      <th>3</th>\n",
       "      <td>1100011005.avi</td>\n",
       "      <td>0</td>\n",
       "      <td>3</td>\n",
       "      <td>0</td>\n",
       "      <td>0</td>\n",
       "    </tr>\n",
       "    <tr>\n",
       "      <th>4</th>\n",
       "      <td>1100011006.avi</td>\n",
       "      <td>0</td>\n",
       "      <td>3</td>\n",
       "      <td>0</td>\n",
       "      <td>0</td>\n",
       "    </tr>\n",
       "  </tbody>\n",
       "</table>\n",
       "</div>"
      ],
      "text/plain": [
       "           ClipID  Boredom  Engagement  Confusion  Frustration \n",
       "0  1100011002.avi        0           2          0             0\n",
       "1  1100011003.avi        0           2          0             0\n",
       "2  1100011004.avi        0           3          0             0\n",
       "3  1100011005.avi        0           3          0             0\n",
       "4  1100011006.avi        0           3          0             0"
      ]
     },
     "execution_count": 5,
     "metadata": {},
     "output_type": "execute_result"
    }
   ],
   "source": [
    "labels = pd.read_csv(\"DAiSEE/Labels/TrainLabels.csv\")\n",
    "labels.head()"
   ]
  },
  {
   "cell_type": "code",
   "execution_count": 6,
   "id": "ab14775a-73d5-42ab-a1fa-94ef6f6556f8",
   "metadata": {},
   "outputs": [],
   "source": [
    "df[\"key\"] = df[\"image_name\"].str[:10]\n",
    "labels[\"key\"] = labels['ClipID'].str[:-4]"
   ]
  },
  {
   "cell_type": "code",
   "execution_count": 7,
   "id": "94eb65fb-dc98-424d-a335-b42c2d848777",
   "metadata": {},
   "outputs": [
    {
     "data": {
      "text/html": [
       "<div>\n",
       "<style scoped>\n",
       "    .dataframe tbody tr th:only-of-type {\n",
       "        vertical-align: middle;\n",
       "    }\n",
       "\n",
       "    .dataframe tbody tr th {\n",
       "        vertical-align: top;\n",
       "    }\n",
       "\n",
       "    .dataframe thead th {\n",
       "        text-align: right;\n",
       "    }\n",
       "</style>\n",
       "<table border=\"1\" class=\"dataframe\">\n",
       "  <thead>\n",
       "    <tr style=\"text-align: right;\">\n",
       "      <th></th>\n",
       "      <th>label_name</th>\n",
       "      <th>bbox_x</th>\n",
       "      <th>bbox_y</th>\n",
       "      <th>bbox_width</th>\n",
       "      <th>bbox_height</th>\n",
       "      <th>image_name</th>\n",
       "      <th>key</th>\n",
       "      <th>ClipID</th>\n",
       "      <th>Boredom</th>\n",
       "      <th>Engagement</th>\n",
       "      <th>Confusion</th>\n",
       "      <th>Frustration</th>\n",
       "      <th>path</th>\n",
       "    </tr>\n",
       "  </thead>\n",
       "  <tbody>\n",
       "    <tr>\n",
       "      <th>0</th>\n",
       "      <td>person</td>\n",
       "      <td>89</td>\n",
       "      <td>139</td>\n",
       "      <td>440</td>\n",
       "      <td>337</td>\n",
       "      <td>3100792031125.jpg</td>\n",
       "      <td>3100792031</td>\n",
       "      <td>3100792031.avi</td>\n",
       "      <td>0</td>\n",
       "      <td>3</td>\n",
       "      <td>1</td>\n",
       "      <td>1</td>\n",
       "      <td>DAiSEE/DataSet/Train/310079/3100792031/3100792...</td>\n",
       "    </tr>\n",
       "    <tr>\n",
       "      <th>1</th>\n",
       "      <td>person</td>\n",
       "      <td>88</td>\n",
       "      <td>143</td>\n",
       "      <td>451</td>\n",
       "      <td>334</td>\n",
       "      <td>3100792031152.jpg</td>\n",
       "      <td>3100792031</td>\n",
       "      <td>3100792031.avi</td>\n",
       "      <td>0</td>\n",
       "      <td>3</td>\n",
       "      <td>1</td>\n",
       "      <td>1</td>\n",
       "      <td>DAiSEE/DataSet/Train/310079/3100792031/3100792...</td>\n",
       "    </tr>\n",
       "    <tr>\n",
       "      <th>2</th>\n",
       "      <td>person</td>\n",
       "      <td>89</td>\n",
       "      <td>138</td>\n",
       "      <td>439</td>\n",
       "      <td>338</td>\n",
       "      <td>310079203118.jpg</td>\n",
       "      <td>3100792031</td>\n",
       "      <td>3100792031.avi</td>\n",
       "      <td>0</td>\n",
       "      <td>3</td>\n",
       "      <td>1</td>\n",
       "      <td>1</td>\n",
       "      <td>DAiSEE/DataSet/Train/310079/3100792031/3100792...</td>\n",
       "    </tr>\n",
       "    <tr>\n",
       "      <th>3</th>\n",
       "      <td>person</td>\n",
       "      <td>87</td>\n",
       "      <td>144</td>\n",
       "      <td>453</td>\n",
       "      <td>333</td>\n",
       "      <td>3100792031206.jpg</td>\n",
       "      <td>3100792031</td>\n",
       "      <td>3100792031.avi</td>\n",
       "      <td>0</td>\n",
       "      <td>3</td>\n",
       "      <td>1</td>\n",
       "      <td>1</td>\n",
       "      <td>DAiSEE/DataSet/Train/310079/3100792031/3100792...</td>\n",
       "    </tr>\n",
       "    <tr>\n",
       "      <th>4</th>\n",
       "      <td>person</td>\n",
       "      <td>91</td>\n",
       "      <td>144</td>\n",
       "      <td>438</td>\n",
       "      <td>333</td>\n",
       "      <td>3100792031233.jpg</td>\n",
       "      <td>3100792031</td>\n",
       "      <td>3100792031.avi</td>\n",
       "      <td>0</td>\n",
       "      <td>3</td>\n",
       "      <td>1</td>\n",
       "      <td>1</td>\n",
       "      <td>DAiSEE/DataSet/Train/310079/3100792031/3100792...</td>\n",
       "    </tr>\n",
       "  </tbody>\n",
       "</table>\n",
       "</div>"
      ],
      "text/plain": [
       "  label_name  bbox_x  bbox_y  bbox_width  bbox_height         image_name  \\\n",
       "0     person      89     139         440          337  3100792031125.jpg   \n",
       "1     person      88     143         451          334  3100792031152.jpg   \n",
       "2     person      89     138         439          338   310079203118.jpg   \n",
       "3     person      87     144         453          333  3100792031206.jpg   \n",
       "4     person      91     144         438          333  3100792031233.jpg   \n",
       "\n",
       "          key          ClipID  Boredom  Engagement  Confusion  Frustration   \\\n",
       "0  3100792031  3100792031.avi        0           3          1             1   \n",
       "1  3100792031  3100792031.avi        0           3          1             1   \n",
       "2  3100792031  3100792031.avi        0           3          1             1   \n",
       "3  3100792031  3100792031.avi        0           3          1             1   \n",
       "4  3100792031  3100792031.avi        0           3          1             1   \n",
       "\n",
       "                                                path  \n",
       "0  DAiSEE/DataSet/Train/310079/3100792031/3100792...  \n",
       "1  DAiSEE/DataSet/Train/310079/3100792031/3100792...  \n",
       "2  DAiSEE/DataSet/Train/310079/3100792031/3100792...  \n",
       "3  DAiSEE/DataSet/Train/310079/3100792031/3100792...  \n",
       "4  DAiSEE/DataSet/Train/310079/3100792031/3100792...  "
      ]
     },
     "execution_count": 7,
     "metadata": {},
     "output_type": "execute_result"
    }
   ],
   "source": [
    "processed_Data = pd.merge(df,labels,on='key')\n",
    "processed_Data[\"path\"] = \"DAiSEE/DataSet/Train/\"+ processed_Data['ClipID'].str[:6]+'/'+processed_Data['ClipID'].str[:-4]+'/'+processed_Data['image_name'] \n",
    "processed_Data.head()"
   ]
  },
  {
   "cell_type": "code",
   "execution_count": 8,
   "id": "12a32d48-47da-44cb-9183-31c554a04203",
   "metadata": {},
   "outputs": [
    {
     "data": {
      "text/plain": [
       "Index(['label_name', 'bbox_x', 'bbox_y', 'bbox_width', 'bbox_height',\n",
       "       'image_name', 'key', 'ClipID', 'Boredom', 'Engagement', 'Confusion',\n",
       "       'Frustration ', 'path'],\n",
       "      dtype='object')"
      ]
     },
     "execution_count": 8,
     "metadata": {},
     "output_type": "execute_result"
    }
   ],
   "source": [
    "processed_Data.columns"
   ]
  },
  {
   "cell_type": "code",
   "execution_count": 9,
   "id": "b6cdb0a5-e575-4b09-8d31-b4e1bc873680",
   "metadata": {},
   "outputs": [],
   "source": [
    "\n",
    "def add_highest_emotion_column(df):\n",
    "    # List of emotion columns\n",
    "    emotion_columns = ['Engagement', 'Confusion', 'Frustration ', 'Boredom']\n",
    "    \n",
    "    # Create a new column with the name of the emotion with the highest score\n",
    "    df['highest_emotion'] = (df[emotion_columns].idxmax(axis=1))\n",
    "    \n",
    "    # If there's a tie, we might want to know about it\n",
    "    #df['is_tie'] = (df[emotion_columns].max(axis=1) == df[emotion_columns]).sum(axis=1) > 1\n",
    "    \n",
    "    return df"
   ]
  },
  {
   "cell_type": "code",
   "execution_count": 10,
   "id": "a0484bb5-d5db-49cf-be2a-5ad5ae932b5b",
   "metadata": {},
   "outputs": [
    {
     "data": {
      "text/html": [
       "<div>\n",
       "<style scoped>\n",
       "    .dataframe tbody tr th:only-of-type {\n",
       "        vertical-align: middle;\n",
       "    }\n",
       "\n",
       "    .dataframe tbody tr th {\n",
       "        vertical-align: top;\n",
       "    }\n",
       "\n",
       "    .dataframe thead th {\n",
       "        text-align: right;\n",
       "    }\n",
       "</style>\n",
       "<table border=\"1\" class=\"dataframe\">\n",
       "  <thead>\n",
       "    <tr style=\"text-align: right;\">\n",
       "      <th></th>\n",
       "      <th>label_name</th>\n",
       "      <th>bbox_x</th>\n",
       "      <th>bbox_y</th>\n",
       "      <th>bbox_width</th>\n",
       "      <th>bbox_height</th>\n",
       "      <th>image_name</th>\n",
       "      <th>key</th>\n",
       "      <th>ClipID</th>\n",
       "      <th>Boredom</th>\n",
       "      <th>Engagement</th>\n",
       "      <th>Confusion</th>\n",
       "      <th>Frustration</th>\n",
       "      <th>path</th>\n",
       "      <th>highest_emotion</th>\n",
       "    </tr>\n",
       "  </thead>\n",
       "  <tbody>\n",
       "    <tr>\n",
       "      <th>0</th>\n",
       "      <td>person</td>\n",
       "      <td>89</td>\n",
       "      <td>139</td>\n",
       "      <td>440</td>\n",
       "      <td>337</td>\n",
       "      <td>3100792031125.jpg</td>\n",
       "      <td>3100792031</td>\n",
       "      <td>3100792031.avi</td>\n",
       "      <td>0</td>\n",
       "      <td>3</td>\n",
       "      <td>1</td>\n",
       "      <td>1</td>\n",
       "      <td>DAiSEE/DataSet/Train/310079/3100792031/3100792...</td>\n",
       "      <td>Engagement</td>\n",
       "    </tr>\n",
       "    <tr>\n",
       "      <th>1</th>\n",
       "      <td>person</td>\n",
       "      <td>88</td>\n",
       "      <td>143</td>\n",
       "      <td>451</td>\n",
       "      <td>334</td>\n",
       "      <td>3100792031152.jpg</td>\n",
       "      <td>3100792031</td>\n",
       "      <td>3100792031.avi</td>\n",
       "      <td>0</td>\n",
       "      <td>3</td>\n",
       "      <td>1</td>\n",
       "      <td>1</td>\n",
       "      <td>DAiSEE/DataSet/Train/310079/3100792031/3100792...</td>\n",
       "      <td>Engagement</td>\n",
       "    </tr>\n",
       "    <tr>\n",
       "      <th>2</th>\n",
       "      <td>person</td>\n",
       "      <td>89</td>\n",
       "      <td>138</td>\n",
       "      <td>439</td>\n",
       "      <td>338</td>\n",
       "      <td>310079203118.jpg</td>\n",
       "      <td>3100792031</td>\n",
       "      <td>3100792031.avi</td>\n",
       "      <td>0</td>\n",
       "      <td>3</td>\n",
       "      <td>1</td>\n",
       "      <td>1</td>\n",
       "      <td>DAiSEE/DataSet/Train/310079/3100792031/3100792...</td>\n",
       "      <td>Engagement</td>\n",
       "    </tr>\n",
       "    <tr>\n",
       "      <th>3</th>\n",
       "      <td>person</td>\n",
       "      <td>87</td>\n",
       "      <td>144</td>\n",
       "      <td>453</td>\n",
       "      <td>333</td>\n",
       "      <td>3100792031206.jpg</td>\n",
       "      <td>3100792031</td>\n",
       "      <td>3100792031.avi</td>\n",
       "      <td>0</td>\n",
       "      <td>3</td>\n",
       "      <td>1</td>\n",
       "      <td>1</td>\n",
       "      <td>DAiSEE/DataSet/Train/310079/3100792031/3100792...</td>\n",
       "      <td>Engagement</td>\n",
       "    </tr>\n",
       "    <tr>\n",
       "      <th>4</th>\n",
       "      <td>person</td>\n",
       "      <td>91</td>\n",
       "      <td>144</td>\n",
       "      <td>438</td>\n",
       "      <td>333</td>\n",
       "      <td>3100792031233.jpg</td>\n",
       "      <td>3100792031</td>\n",
       "      <td>3100792031.avi</td>\n",
       "      <td>0</td>\n",
       "      <td>3</td>\n",
       "      <td>1</td>\n",
       "      <td>1</td>\n",
       "      <td>DAiSEE/DataSet/Train/310079/3100792031/3100792...</td>\n",
       "      <td>Engagement</td>\n",
       "    </tr>\n",
       "  </tbody>\n",
       "</table>\n",
       "</div>"
      ],
      "text/plain": [
       "  label_name  bbox_x  bbox_y  bbox_width  bbox_height         image_name  \\\n",
       "0     person      89     139         440          337  3100792031125.jpg   \n",
       "1     person      88     143         451          334  3100792031152.jpg   \n",
       "2     person      89     138         439          338   310079203118.jpg   \n",
       "3     person      87     144         453          333  3100792031206.jpg   \n",
       "4     person      91     144         438          333  3100792031233.jpg   \n",
       "\n",
       "          key          ClipID  Boredom  Engagement  Confusion  Frustration   \\\n",
       "0  3100792031  3100792031.avi        0           3          1             1   \n",
       "1  3100792031  3100792031.avi        0           3          1             1   \n",
       "2  3100792031  3100792031.avi        0           3          1             1   \n",
       "3  3100792031  3100792031.avi        0           3          1             1   \n",
       "4  3100792031  3100792031.avi        0           3          1             1   \n",
       "\n",
       "                                                path highest_emotion  \n",
       "0  DAiSEE/DataSet/Train/310079/3100792031/3100792...      Engagement  \n",
       "1  DAiSEE/DataSet/Train/310079/3100792031/3100792...      Engagement  \n",
       "2  DAiSEE/DataSet/Train/310079/3100792031/3100792...      Engagement  \n",
       "3  DAiSEE/DataSet/Train/310079/3100792031/3100792...      Engagement  \n",
       "4  DAiSEE/DataSet/Train/310079/3100792031/3100792...      Engagement  "
      ]
     },
     "execution_count": 10,
     "metadata": {},
     "output_type": "execute_result"
    }
   ],
   "source": [
    "proc_data = add_highest_emotion_column(processed_Data)\n",
    "proc_data.head()"
   ]
  },
  {
   "cell_type": "code",
   "execution_count": 11,
   "id": "79d5b7fc-d181-4506-b268-8ec03ce47659",
   "metadata": {},
   "outputs": [
    {
     "data": {
      "text/plain": [
       "(7550, 14)"
      ]
     },
     "execution_count": 11,
     "metadata": {},
     "output_type": "execute_result"
    }
   ],
   "source": [
    "processed_Data.shape"
   ]
  },
  {
   "cell_type": "code",
   "execution_count": 12,
   "id": "f19b8ea2-973f-49ab-ae69-5c4d1d80bbf9",
   "metadata": {},
   "outputs": [
    {
     "data": {
      "text/plain": [
       "'DAiSEE/DataSet/Train/310079/3100792031/3100792031152.jpg'"
      ]
     },
     "execution_count": 12,
     "metadata": {},
     "output_type": "execute_result"
    }
   ],
   "source": [
    "processed_Data['path'][1]"
   ]
  },
  {
   "cell_type": "code",
   "execution_count": 13,
   "id": "8234de4f-ac30-4e5b-9e65-3cb0c11c721b",
   "metadata": {},
   "outputs": [
    {
     "data": {
      "text/plain": [
       "label_name         1044\n",
       "bbox_x             1044\n",
       "bbox_y             1044\n",
       "bbox_width         1044\n",
       "bbox_height        1044\n",
       "image_name         1044\n",
       "key                1044\n",
       "ClipID             1044\n",
       "Boredom            1044\n",
       "Engagement         1044\n",
       "Confusion          1044\n",
       "Frustration        1044\n",
       "path               1044\n",
       "highest_emotion    1044\n",
       "dtype: int64"
      ]
     },
     "execution_count": 13,
     "metadata": {},
     "output_type": "execute_result"
    }
   ],
   "source": [
    "processed_Data[processed_Data['label_name'] != 'person'].count()"
   ]
  },
  {
   "cell_type": "code",
   "execution_count": 14,
   "id": "bf0fe79f-2e70-4597-8e43-36708af19169",
   "metadata": {},
   "outputs": [],
   "source": [
    "filtered_df = processed_Data[processed_Data['label_name'].str.contains('person') == True]"
   ]
  },
  {
   "cell_type": "code",
   "execution_count": 15,
   "id": "6ce103a0-e976-492f-90da-b83062826779",
   "metadata": {},
   "outputs": [
    {
     "data": {
      "text/plain": [
       "(6506, 14)"
      ]
     },
     "execution_count": 15,
     "metadata": {},
     "output_type": "execute_result"
    }
   ],
   "source": [
    "filtered_df.shape"
   ]
  },
  {
   "cell_type": "code",
   "execution_count": 16,
   "id": "4a55fda0-34d5-4d44-b58a-1e232859cbac",
   "metadata": {},
   "outputs": [],
   "source": [
    "def convert_bbox_columns(df):\n",
    "    # Create a copy of the DataFrame to ensure we're not working on a slice\n",
    "    df = df.copy()\n",
    "    \n",
    "    # Use .loc for safe assignment\n",
    "    df.loc[:, 'x_min'] = df['bbox_x'] - (df['bbox_width'] / 2)\n",
    "    df.loc[:, 'x_max'] = df['bbox_x'] + (df['bbox_width'] / 2)\n",
    "    df.loc[:, 'y_min'] = df['bbox_y'] - (df['bbox_height'] / 2)\n",
    "    df.loc[:, 'y_max'] = df['bbox_y'] + (df['bbox_height'] / 2)\n",
    "    \n",
    "    return df"
   ]
  },
  {
   "cell_type": "code",
   "execution_count": 17,
   "id": "56cfbb70-ca22-4921-9bdc-3c9adb583b9e",
   "metadata": {},
   "outputs": [],
   "source": [
    "filtered_df = convert_bbox_columns(filtered_df)"
   ]
  },
  {
   "cell_type": "code",
   "execution_count": 18,
   "id": "890e6dbd-68f4-4ae0-980d-05438de48363",
   "metadata": {},
   "outputs": [],
   "source": [
    "import tensorflow as tf\n",
    "import pandas as pd\n",
    "from tqdm import tqdm\n",
    "import os\n",
    "\n",
    "def add_image_data_column(df, path_column='path', new_column='image_data', verbose=True):\n",
    "    \"\"\"\n",
    "    Add a new column with image data read from file paths and remove rows with missing or unreadable images.\n",
    "    \n",
    "    Args:\n",
    "    df (pandas.DataFrame): The input DataFrame.\n",
    "    path_column (str): The name of the column containing image paths.\n",
    "    new_column (str): The name of the new column to store image data.\n",
    "    verbose (bool): If True, show a progress bar.\n",
    "    \n",
    "    Returns:\n",
    "    pandas.DataFrame: A new DataFrame with the added image data column and invalid rows removed.\n",
    "    \"\"\"\n",
    "    def read_image(path):\n",
    "        if not os.path.isfile(path):\n",
    "            return None\n",
    "        try:\n",
    "            img_data = tf.io.read_file(path)\n",
    "            # Try to decode the image to check if it's valid\n",
    "            tf.image.decode_image(img_data)\n",
    "            return img_data\n",
    "        except tf.errors.InvalidArgumentError:\n",
    "            return None\n",
    "\n",
    "    if verbose:\n",
    "        tqdm.pandas(desc=\"Reading image data\")\n",
    "        df[new_column] = df[path_column].progress_apply(read_image)\n",
    "    else:\n",
    "        df[new_column] = df[path_column].apply(read_image)\n",
    "    \n",
    "    # Remove rows where image couldn't be read or file doesn't exist\n",
    "    df_filtered = df.dropna(subset=[new_column])\n",
    "    \n",
    "    if verbose:\n",
    "        print(f\"Original DataFrame shape: {df.shape}\")\n",
    "        print(f\"Filtered DataFrame shape: {df_filtered.shape}\")\n",
    "        print(f\"Removed {df.shape[0] - df_filtered.shape[0]} entries with missing or unreadable images\")\n",
    "    \n",
    "    return df_filtered\n",
    "\n",
    "# Usage example:\n",
    "# df = pd.read_csv('your_dataset.csv')\n",
    "# df_with_images = add_image_data_column(df)"
   ]
  },
  {
   "cell_type": "code",
   "execution_count": 19,
   "id": "3b10dff3-0a5a-429a-90c1-2904cea424bc",
   "metadata": {},
   "outputs": [
    {
     "name": "stderr",
     "output_type": "stream",
     "text": [
      "Reading image data: 100%|███████████████████████████████████████████████| 6506/6506 [01:46<00:00, 60.86it/s]"
     ]
    },
    {
     "name": "stdout",
     "output_type": "stream",
     "text": [
      "Original DataFrame shape: (6506, 19)\n",
      "Filtered DataFrame shape: (6287, 19)\n",
      "Removed 219 entries with missing or unreadable images\n"
     ]
    },
    {
     "name": "stderr",
     "output_type": "stream",
     "text": [
      "\n"
     ]
    }
   ],
   "source": [
    "df = add_image_data_column(filtered_df)"
   ]
  },
  {
   "cell_type": "code",
   "execution_count": 20,
   "id": "09240e77-697a-4769-b18c-a912f7e287ed",
   "metadata": {},
   "outputs": [
    {
     "data": {
      "text/plain": [
       "(6287, 19)"
      ]
     },
     "execution_count": 20,
     "metadata": {},
     "output_type": "execute_result"
    }
   ],
   "source": [
    "df.shape"
   ]
  },
  {
   "cell_type": "code",
   "execution_count": 21,
   "id": "e3bbcfe2-4e96-45f9-ab92-3d1c2103660f",
   "metadata": {},
   "outputs": [
    {
     "data": {
      "text/html": [
       "<div>\n",
       "<style scoped>\n",
       "    .dataframe tbody tr th:only-of-type {\n",
       "        vertical-align: middle;\n",
       "    }\n",
       "\n",
       "    .dataframe tbody tr th {\n",
       "        vertical-align: top;\n",
       "    }\n",
       "\n",
       "    .dataframe thead th {\n",
       "        text-align: right;\n",
       "    }\n",
       "</style>\n",
       "<table border=\"1\" class=\"dataframe\">\n",
       "  <thead>\n",
       "    <tr style=\"text-align: right;\">\n",
       "      <th></th>\n",
       "      <th>label_name</th>\n",
       "      <th>bbox_x</th>\n",
       "      <th>bbox_y</th>\n",
       "      <th>bbox_width</th>\n",
       "      <th>bbox_height</th>\n",
       "      <th>image_name</th>\n",
       "      <th>key</th>\n",
       "      <th>ClipID</th>\n",
       "      <th>Boredom</th>\n",
       "      <th>Engagement</th>\n",
       "      <th>Confusion</th>\n",
       "      <th>Frustration</th>\n",
       "      <th>path</th>\n",
       "      <th>highest_emotion</th>\n",
       "      <th>x_min</th>\n",
       "      <th>x_max</th>\n",
       "      <th>y_min</th>\n",
       "      <th>y_max</th>\n",
       "      <th>image_data</th>\n",
       "    </tr>\n",
       "  </thead>\n",
       "  <tbody>\n",
       "    <tr>\n",
       "      <th>0</th>\n",
       "      <td>person</td>\n",
       "      <td>89</td>\n",
       "      <td>139</td>\n",
       "      <td>440</td>\n",
       "      <td>337</td>\n",
       "      <td>3100792031125.jpg</td>\n",
       "      <td>3100792031</td>\n",
       "      <td>3100792031.avi</td>\n",
       "      <td>0</td>\n",
       "      <td>3</td>\n",
       "      <td>1</td>\n",
       "      <td>1</td>\n",
       "      <td>DAiSEE/DataSet/Train/310079/3100792031/3100792...</td>\n",
       "      <td>Engagement</td>\n",
       "      <td>-131.0</td>\n",
       "      <td>309.0</td>\n",
       "      <td>-29.5</td>\n",
       "      <td>307.5</td>\n",
       "      <td>tf.Tensor(b'\\xff\\xd8\\xff\\xe0\\x00\\x10JFIF\\x00\\x...</td>\n",
       "    </tr>\n",
       "    <tr>\n",
       "      <th>1</th>\n",
       "      <td>person</td>\n",
       "      <td>88</td>\n",
       "      <td>143</td>\n",
       "      <td>451</td>\n",
       "      <td>334</td>\n",
       "      <td>3100792031152.jpg</td>\n",
       "      <td>3100792031</td>\n",
       "      <td>3100792031.avi</td>\n",
       "      <td>0</td>\n",
       "      <td>3</td>\n",
       "      <td>1</td>\n",
       "      <td>1</td>\n",
       "      <td>DAiSEE/DataSet/Train/310079/3100792031/3100792...</td>\n",
       "      <td>Engagement</td>\n",
       "      <td>-137.5</td>\n",
       "      <td>313.5</td>\n",
       "      <td>-24.0</td>\n",
       "      <td>310.0</td>\n",
       "      <td>tf.Tensor(b'\\xff\\xd8\\xff\\xe0\\x00\\x10JFIF\\x00\\x...</td>\n",
       "    </tr>\n",
       "    <tr>\n",
       "      <th>2</th>\n",
       "      <td>person</td>\n",
       "      <td>89</td>\n",
       "      <td>138</td>\n",
       "      <td>439</td>\n",
       "      <td>338</td>\n",
       "      <td>310079203118.jpg</td>\n",
       "      <td>3100792031</td>\n",
       "      <td>3100792031.avi</td>\n",
       "      <td>0</td>\n",
       "      <td>3</td>\n",
       "      <td>1</td>\n",
       "      <td>1</td>\n",
       "      <td>DAiSEE/DataSet/Train/310079/3100792031/3100792...</td>\n",
       "      <td>Engagement</td>\n",
       "      <td>-130.5</td>\n",
       "      <td>308.5</td>\n",
       "      <td>-31.0</td>\n",
       "      <td>307.0</td>\n",
       "      <td>tf.Tensor(b'\\xff\\xd8\\xff\\xe0\\x00\\x10JFIF\\x00\\x...</td>\n",
       "    </tr>\n",
       "    <tr>\n",
       "      <th>3</th>\n",
       "      <td>person</td>\n",
       "      <td>87</td>\n",
       "      <td>144</td>\n",
       "      <td>453</td>\n",
       "      <td>333</td>\n",
       "      <td>3100792031206.jpg</td>\n",
       "      <td>3100792031</td>\n",
       "      <td>3100792031.avi</td>\n",
       "      <td>0</td>\n",
       "      <td>3</td>\n",
       "      <td>1</td>\n",
       "      <td>1</td>\n",
       "      <td>DAiSEE/DataSet/Train/310079/3100792031/3100792...</td>\n",
       "      <td>Engagement</td>\n",
       "      <td>-139.5</td>\n",
       "      <td>313.5</td>\n",
       "      <td>-22.5</td>\n",
       "      <td>310.5</td>\n",
       "      <td>tf.Tensor(b'\\xff\\xd8\\xff\\xe0\\x00\\x10JFIF\\x00\\x...</td>\n",
       "    </tr>\n",
       "    <tr>\n",
       "      <th>4</th>\n",
       "      <td>person</td>\n",
       "      <td>91</td>\n",
       "      <td>144</td>\n",
       "      <td>438</td>\n",
       "      <td>333</td>\n",
       "      <td>3100792031233.jpg</td>\n",
       "      <td>3100792031</td>\n",
       "      <td>3100792031.avi</td>\n",
       "      <td>0</td>\n",
       "      <td>3</td>\n",
       "      <td>1</td>\n",
       "      <td>1</td>\n",
       "      <td>DAiSEE/DataSet/Train/310079/3100792031/3100792...</td>\n",
       "      <td>Engagement</td>\n",
       "      <td>-128.0</td>\n",
       "      <td>310.0</td>\n",
       "      <td>-22.5</td>\n",
       "      <td>310.5</td>\n",
       "      <td>tf.Tensor(b'\\xff\\xd8\\xff\\xe0\\x00\\x10JFIF\\x00\\x...</td>\n",
       "    </tr>\n",
       "  </tbody>\n",
       "</table>\n",
       "</div>"
      ],
      "text/plain": [
       "  label_name  bbox_x  bbox_y  bbox_width  bbox_height         image_name  \\\n",
       "0     person      89     139         440          337  3100792031125.jpg   \n",
       "1     person      88     143         451          334  3100792031152.jpg   \n",
       "2     person      89     138         439          338   310079203118.jpg   \n",
       "3     person      87     144         453          333  3100792031206.jpg   \n",
       "4     person      91     144         438          333  3100792031233.jpg   \n",
       "\n",
       "          key          ClipID  Boredom  Engagement  Confusion  Frustration   \\\n",
       "0  3100792031  3100792031.avi        0           3          1             1   \n",
       "1  3100792031  3100792031.avi        0           3          1             1   \n",
       "2  3100792031  3100792031.avi        0           3          1             1   \n",
       "3  3100792031  3100792031.avi        0           3          1             1   \n",
       "4  3100792031  3100792031.avi        0           3          1             1   \n",
       "\n",
       "                                                path highest_emotion  x_min  \\\n",
       "0  DAiSEE/DataSet/Train/310079/3100792031/3100792...      Engagement -131.0   \n",
       "1  DAiSEE/DataSet/Train/310079/3100792031/3100792...      Engagement -137.5   \n",
       "2  DAiSEE/DataSet/Train/310079/3100792031/3100792...      Engagement -130.5   \n",
       "3  DAiSEE/DataSet/Train/310079/3100792031/3100792...      Engagement -139.5   \n",
       "4  DAiSEE/DataSet/Train/310079/3100792031/3100792...      Engagement -128.0   \n",
       "\n",
       "   x_max  y_min  y_max                                         image_data  \n",
       "0  309.0  -29.5  307.5  tf.Tensor(b'\\xff\\xd8\\xff\\xe0\\x00\\x10JFIF\\x00\\x...  \n",
       "1  313.5  -24.0  310.0  tf.Tensor(b'\\xff\\xd8\\xff\\xe0\\x00\\x10JFIF\\x00\\x...  \n",
       "2  308.5  -31.0  307.0  tf.Tensor(b'\\xff\\xd8\\xff\\xe0\\x00\\x10JFIF\\x00\\x...  \n",
       "3  313.5  -22.5  310.5  tf.Tensor(b'\\xff\\xd8\\xff\\xe0\\x00\\x10JFIF\\x00\\x...  \n",
       "4  310.0  -22.5  310.5  tf.Tensor(b'\\xff\\xd8\\xff\\xe0\\x00\\x10JFIF\\x00\\x...  "
      ]
     },
     "execution_count": 21,
     "metadata": {},
     "output_type": "execute_result"
    }
   ],
   "source": [
    "df.head()"
   ]
  },
  {
   "cell_type": "code",
   "execution_count": 22,
   "id": "ff79ebf3-c16c-4bc0-930a-06db89a6e171",
   "metadata": {},
   "outputs": [],
   "source": [
    "df.to_csv(\"Train_images.csv\")"
   ]
  },
  {
   "cell_type": "markdown",
   "id": "1846a748-1f30-44d4-9afa-a8713c7e0229",
   "metadata": {},
   "source": [
    "# Encoding dataset"
   ]
  },
  {
   "cell_type": "code",
   "execution_count": 23,
   "id": "3dd0519f-3149-427d-b354-7743d377d280",
   "metadata": {},
   "outputs": [
    {
     "data": {
      "text/plain": [
       "Index(['label_name', 'bbox_x', 'bbox_y', 'bbox_width', 'bbox_height',\n",
       "       'image_name', 'key', 'ClipID', 'Boredom', 'Engagement', 'Confusion',\n",
       "       'Frustration ', 'path', 'highest_emotion', 'x_min', 'x_max', 'y_min',\n",
       "       'y_max', 'image_data'],\n",
       "      dtype='object')"
      ]
     },
     "execution_count": 23,
     "metadata": {},
     "output_type": "execute_result"
    }
   ],
   "source": [
    "df.columns"
   ]
  },
  {
   "cell_type": "code",
   "execution_count": 24,
   "id": "60ae2218-5546-443d-8c99-ecc954de82d6",
   "metadata": {},
   "outputs": [],
   "source": [
    "import tensorflow as tf\n",
    "\n",
    "def transform_row(row):\n",
    "    return {\n",
    "        'image': row['image_data'],  # Read image from path\n",
    "        'image/filename': row['image_name'],\n",
    "        'image/id': row['key'],\n",
    "        'objects': {\n",
    "            'area': [row['bbox_width'] * row['bbox_height']],\n",
    "            'bbox': [[row['bbox_x'], row['bbox_y'], row['bbox_width'], row['bbox_height']]],\n",
    "            'id': [row['key']],  # Assuming each object has a unique key\n",
    "            'is_crowd': [False],  # Assuming is_crowd is False for all objects\n",
    "            'label': [row['Boredom'],row['Engagement'],row['Confusion'],row['Frustration ']]  # Assuming label_name is an integer or map it accordingly\n",
    "        }\n",
    "    }"
   ]
  },
  {
   "cell_type": "code",
   "execution_count": 28,
   "id": "4f2006cb-536a-4e9f-98c0-5f03c118d680",
   "metadata": {},
   "outputs": [],
   "source": [
    "def generator():\n",
    "    for _, row in df.iterrows():\n",
    "        yield transform_row(row)\n",
    "\n",
    "# Define the output signature matching the element_spec\n",
    "output_signature = {\n",
    "    'image': tf.TensorSpec(shape=(), dtype=tf.string),  # Raw image read as string\n",
    "    'image/filename': tf.TensorSpec(shape=(), dtype=tf.string),\n",
    "    'image/id': tf.TensorSpec(shape=(), dtype=tf.int64),\n",
    "    'objects': {\n",
    "        'area': tf.TensorSpec(shape=(1,), dtype=tf.int64),\n",
    "        'bbox': tf.TensorSpec(shape=(1, 4), dtype=tf.float32),\n",
    "        'id': tf.TensorSpec(shape=(1,), dtype=tf.int64),\n",
    "        'is_crowd': tf.TensorSpec(shape=(1,), dtype=tf.bool),\n",
    "        'label': tf.TensorSpec(shape=(4,), dtype=tf.int64)  # Adjust this if label_name is not int\n",
    "    }\n",
    "}"
   ]
  },
  {
   "cell_type": "code",
   "execution_count": 29,
   "id": "ca07e34a-0b6f-4688-bed0-885efb609c46",
   "metadata": {},
   "outputs": [],
   "source": [
    "# Create the dataset\n",
    "dataset = tf.data.Dataset.from_generator(generator, output_signature=output_signature)\n"
   ]
  },
  {
   "cell_type": "code",
   "execution_count": 30,
   "id": "55360a0f-814f-4257-9c70-7f4cb6eeb9a9",
   "metadata": {},
   "outputs": [
    {
     "data": {
      "text/plain": [
       "<_FlatMapDataset element_spec={'image': TensorSpec(shape=(), dtype=tf.string, name=None), 'image/filename': TensorSpec(shape=(), dtype=tf.string, name=None), 'image/id': TensorSpec(shape=(), dtype=tf.int64, name=None), 'objects': {'area': TensorSpec(shape=(1,), dtype=tf.int64, name=None), 'bbox': TensorSpec(shape=(1, 4), dtype=tf.float32, name=None), 'id': TensorSpec(shape=(1,), dtype=tf.int64, name=None), 'is_crowd': TensorSpec(shape=(1,), dtype=tf.bool, name=None), 'label': TensorSpec(shape=(4,), dtype=tf.int64, name=None)}}>"
      ]
     },
     "execution_count": 30,
     "metadata": {},
     "output_type": "execute_result"
    }
   ],
   "source": [
    "dataset"
   ]
  },
  {
   "cell_type": "code",
   "execution_count": 31,
   "id": "9869f8b4-6a28-4c6c-ae91-d5758784a5e5",
   "metadata": {},
   "outputs": [],
   "source": [
    "# Process images: decode the raw image data and resize if necessary\n",
    "def process_image(data):\n",
    "    image = tf.image.decode_jpeg(data['image'], channels=3)  # Adjust decode function if needed\n",
    "    data['image'] = image\n",
    "    return data"
   ]
  },
  {
   "cell_type": "code",
   "execution_count": 32,
   "id": "15e61d1b-bf25-4d15-a94c-cfb22faaf08c",
   "metadata": {},
   "outputs": [
    {
     "data": {
      "text/plain": [
       "<_MapDataset element_spec={'image': TensorSpec(shape=(None, None, 3), dtype=tf.uint8, name=None), 'image/filename': TensorSpec(shape=(), dtype=tf.string, name=None), 'image/id': TensorSpec(shape=(), dtype=tf.int64, name=None), 'objects': {'area': TensorSpec(shape=(1,), dtype=tf.int64, name=None), 'bbox': TensorSpec(shape=(1, 4), dtype=tf.float32, name=None), 'id': TensorSpec(shape=(1,), dtype=tf.int64, name=None), 'is_crowd': TensorSpec(shape=(1,), dtype=tf.bool, name=None), 'label': TensorSpec(shape=(4,), dtype=tf.int64, name=None)}}>"
      ]
     },
     "execution_count": 32,
     "metadata": {},
     "output_type": "execute_result"
    }
   ],
   "source": [
    "da = dataset.map(process_image)\n",
    "da"
   ]
  },
  {
   "cell_type": "code",
   "execution_count": 33,
   "id": "65ca4e17-dd9a-4a2e-aede-de8af56b375c",
   "metadata": {
    "scrolled": true
   },
   "outputs": [
    {
     "name": "stdout",
     "output_type": "stream",
     "text": [
      "{'image': <tf.Tensor: shape=(480, 640, 3), dtype=uint8, numpy=\n",
      "array([[[194, 181, 188],\n",
      "        [194, 181, 188],\n",
      "        [194, 181, 188],\n",
      "        ...,\n",
      "        [188, 182, 196],\n",
      "        [188, 182, 196],\n",
      "        [188, 182, 196]],\n",
      "\n",
      "       [[194, 181, 188],\n",
      "        [194, 181, 188],\n",
      "        [194, 181, 188],\n",
      "        ...,\n",
      "        [188, 182, 196],\n",
      "        [188, 182, 196],\n",
      "        [188, 182, 196]],\n",
      "\n",
      "       [[194, 181, 188],\n",
      "        [194, 181, 188],\n",
      "        [194, 181, 188],\n",
      "        ...,\n",
      "        [188, 182, 196],\n",
      "        [188, 182, 196],\n",
      "        [188, 182, 196]],\n",
      "\n",
      "       ...,\n",
      "\n",
      "       [[ 29,  32,  41],\n",
      "        [ 29,  32,  41],\n",
      "        [ 29,  32,  41],\n",
      "        ...,\n",
      "        [ 47,  49,  61],\n",
      "        [ 47,  49,  61],\n",
      "        [ 47,  49,  61]],\n",
      "\n",
      "       [[ 29,  32,  41],\n",
      "        [ 29,  32,  41],\n",
      "        [ 29,  32,  41],\n",
      "        ...,\n",
      "        [ 47,  49,  61],\n",
      "        [ 47,  49,  61],\n",
      "        [ 47,  49,  61]],\n",
      "\n",
      "       [[ 29,  32,  41],\n",
      "        [ 29,  32,  41],\n",
      "        [ 29,  32,  41],\n",
      "        ...,\n",
      "        [ 47,  49,  61],\n",
      "        [ 47,  49,  61],\n",
      "        [ 47,  49,  61]]], dtype=uint8)>, 'image/filename': <tf.Tensor: shape=(), dtype=string, numpy=b'3100792031125.jpg'>, 'image/id': <tf.Tensor: shape=(), dtype=int64, numpy=3100792031>, 'objects': {'area': <tf.Tensor: shape=(1,), dtype=int64, numpy=array([148280])>, 'bbox': <tf.Tensor: shape=(1, 4), dtype=float32, numpy=array([[ 89., 139., 440., 337.]], dtype=float32)>, 'id': <tf.Tensor: shape=(1,), dtype=int64, numpy=array([3100792031])>, 'is_crowd': <tf.Tensor: shape=(1,), dtype=bool, numpy=array([False])>, 'label': <tf.Tensor: shape=(4,), dtype=int64, numpy=array([0, 3, 1, 1])>}}\n"
     ]
    }
   ],
   "source": [
    "for sample in da.take(1):\n",
    "    print(sample)"
   ]
  },
  {
   "cell_type": "code",
   "execution_count": 34,
   "id": "ade92269-f775-4af3-ad5d-6d6e61f8bf9c",
   "metadata": {},
   "outputs": [
    {
     "data": {
      "text/plain": [
       "tensorflow.python.data.ops.map_op._MapDataset"
      ]
     },
     "execution_count": 34,
     "metadata": {},
     "output_type": "execute_result"
    }
   ],
   "source": [
    "type(da)"
   ]
  },
  {
   "cell_type": "code",
   "execution_count": 35,
   "id": "d5326dd2-b21c-4452-af31-34493b362a27",
   "metadata": {},
   "outputs": [],
   "source": [
    "import tensorflow as tf\n",
    "\n",
    "def reshape_objects(example):\n",
    "    objects = example['objects']\n",
    "    reshaped_objects = {\n",
    "        'area': tf.reshape(objects['area'], [-1]),\n",
    "        'bbox': tf.reshape(objects['bbox'], [-1, 4]),\n",
    "        'id': tf.reshape(objects['id'], [-1]),\n",
    "        'is_crowd': tf.reshape(objects['is_crowd'], [-1]),\n",
    "        'label': tf.reshape(objects['label'], [-1])\n",
    "    }\n",
    "    example['objects'] = reshaped_objects\n",
    "    example['image'] = example['image']\n",
    "    return example\n",
    "\n",
    "# Assuming your current dataset is named 'dataset'\n",
    "modified_dataset = da.map(reshape_objects)\n",
    "\n",
    "# Convert to PrefetchDataset\n",
    "prefetch_dataset = modified_dataset.prefetch(tf.data.AUTOTUNE)"
   ]
  },
  {
   "cell_type": "code",
   "execution_count": 36,
   "id": "d94242f6-27e7-41b9-a8fc-1a4e463e0400",
   "metadata": {},
   "outputs": [
    {
     "data": {
      "text/plain": [
       "<_PrefetchDataset element_spec={'image': TensorSpec(shape=(None, None, 3), dtype=tf.uint8, name=None), 'image/filename': TensorSpec(shape=(), dtype=tf.string, name=None), 'image/id': TensorSpec(shape=(), dtype=tf.int64, name=None), 'objects': {'area': TensorSpec(shape=(1,), dtype=tf.int64, name=None), 'bbox': TensorSpec(shape=(1, 4), dtype=tf.float32, name=None), 'id': TensorSpec(shape=(1,), dtype=tf.int64, name=None), 'is_crowd': TensorSpec(shape=(1,), dtype=tf.bool, name=None), 'label': TensorSpec(shape=(4,), dtype=tf.int64, name=None)}}>"
      ]
     },
     "execution_count": 36,
     "metadata": {},
     "output_type": "execute_result"
    }
   ],
   "source": [
    "prefetch_dataset"
   ]
  },
  {
   "cell_type": "code",
   "execution_count": 37,
   "id": "095e14a2-c04f-4583-a6cb-2872f35347ea",
   "metadata": {},
   "outputs": [],
   "source": [
    "def resize_and_pad_image(\n",
    "    image, min_side=800.0, max_side=1333.0, jitter=[640, 1024], stride=128.0\n",
    "):\n",
    "    \"\"\"Resizes and pads image while preserving aspect ratio.\n",
    "\n",
    "    1. Resizes images so that the shorter side is equal to `min_side`\n",
    "    2. If the longer side is greater than `max_side`, then resize the image\n",
    "      with longer side equal to `max_side`\n",
    "    3. Pad with zeros on right and bottom to make the image shape divisible by\n",
    "    `stride`\n",
    "\n",
    "    Arguments:\n",
    "      image: A 3-D tensor of shape `(height, width, channels)` representing an\n",
    "        image.\n",
    "      min_side: The shorter side of the image is resized to this value, if\n",
    "        `jitter` is set to None.\n",
    "      max_side: If the longer side of the image exceeds this value after\n",
    "        resizing, the image is resized such that the longer side now equals to\n",
    "        this value.\n",
    "      jitter: A list of floats containing minimum and maximum size for scale\n",
    "        jittering. If available, the shorter side of the image will be\n",
    "        resized to a random value in this range.\n",
    "      stride: The stride of the smallest feature map in the feature pyramid.\n",
    "        Can be calculated using `image_size / feature_map_size`.\n",
    "\n",
    "    Returns:\n",
    "      image: Resized and padded image.\n",
    "      image_shape: Shape of the image before padding.\n",
    "      ratio: The scaling factor used to resize the image\n",
    "    \"\"\"\n",
    "    image_shape = tf.cast(tf.shape(image)[:2], dtype=tf.float32)\n",
    "    if jitter is not None:\n",
    "        min_side = tf.random.uniform((), jitter[0], jitter[1], dtype=tf.float32)\n",
    "    ratio = min_side / tf.reduce_min(image_shape)\n",
    "    if ratio * tf.reduce_max(image_shape) > max_side:\n",
    "        ratio = max_side / tf.reduce_max(image_shape)\n",
    "    image_shape = ratio * image_shape\n",
    "    image = tf.image.resize(image, tf.cast(image_shape, dtype=tf.int32))\n",
    "    padded_image_shape = tf.cast(\n",
    "        tf.math.ceil(image_shape / stride) * stride, dtype=tf.int32\n",
    "    )\n",
    "    image = tf.image.pad_to_bounding_box(\n",
    "        image, 0, 0, padded_image_shape[0], padded_image_shape[1]\n",
    "    )\n",
    "    return image, image_shape, ratio\n"
   ]
  },
  {
   "cell_type": "code",
   "execution_count": 38,
   "id": "5c45f0ed-d713-4248-8dce-1864215c96e9",
   "metadata": {
    "scrolled": true
   },
   "outputs": [],
   "source": [
    "for sample in prefetch_dataset.take(2):\n",
    "    image = tf.cast(sample['image'],dtype=tf.uint8)\n",
    "    image, _, ratio = resize_and_pad_image(image, jitter=None)\n",
    "    image = tf.keras.applications.resnet.preprocess_input(image)\n",
    "    imput_image = tf.expand_dims(image, axis=0)"
   ]
  },
  {
   "cell_type": "code",
   "execution_count": 39,
   "id": "4f33e52c-3800-412e-a543-5582d91784f7",
   "metadata": {
    "scrolled": true
   },
   "outputs": [
    {
     "name": "stdout",
     "output_type": "stream",
     "text": [
      "(480, 640, 3)\n",
      "<dtype: 'uint8'>\n",
      "tf.Tensor(\n",
      "[[[194 181 188]\n",
      "  [194 181 188]\n",
      "  [194 181 188]\n",
      "  ...\n",
      "  [188 182 196]\n",
      "  [188 182 196]\n",
      "  [188 182 196]]\n",
      "\n",
      " [[194 181 188]\n",
      "  [194 181 188]\n",
      "  [194 181 188]\n",
      "  ...\n",
      "  [188 182 196]\n",
      "  [188 182 196]\n",
      "  [188 182 196]]\n",
      "\n",
      " [[194 181 188]\n",
      "  [194 181 188]\n",
      "  [194 181 188]\n",
      "  ...\n",
      "  [188 182 196]\n",
      "  [188 182 196]\n",
      "  [188 182 196]]\n",
      "\n",
      " ...\n",
      "\n",
      " [[ 30  33  42]\n",
      "  [ 30  33  42]\n",
      "  [ 30  33  42]\n",
      "  ...\n",
      "  [ 46  48  60]\n",
      "  [ 46  48  60]\n",
      "  [ 46  48  60]]\n",
      "\n",
      " [[ 30  33  42]\n",
      "  [ 30  33  42]\n",
      "  [ 30  33  42]\n",
      "  ...\n",
      "  [ 46  48  60]\n",
      "  [ 46  48  60]\n",
      "  [ 46  48  60]]\n",
      "\n",
      " [[ 30  33  42]\n",
      "  [ 30  33  42]\n",
      "  [ 30  33  42]\n",
      "  ...\n",
      "  [ 46  48  60]\n",
      "  [ 46  48  60]\n",
      "  [ 46  48  60]]], shape=(480, 640, 3), dtype=uint8)\n"
     ]
    },
    {
     "data": {
      "text/plain": [
       "<matplotlib.image.AxesImage at 0x7f1e0f752c20>"
      ]
     },
     "execution_count": 39,
     "metadata": {},
     "output_type": "execute_result"
    },
    {
     "data": {
      "image/png": "[encoded data removed]",
      "text/plain": [
       "<Figure size 640x480 with 1 Axes>"
      ]
     },
     "metadata": {},
     "output_type": "display_data"
    }
   ],
   "source": [
    "import numpy as np\n",
    "\n",
    "# Sample image data with incorrect shape and out-of-range values\n",
    "image_data = np.array(imput_image)\n",
    "\n",
    "# Correct the shape by removing the first dimension\n",
    "image_data = image_data[0]\n",
    "\n",
    "# Clip values to the valid range for imshow\n",
    "image_data = np.clip(image_data, 0, 255).astype(np.uint8)\n",
    "\n",
    "print(sample['image'].shape)  # Output: (896, 1152, 3)\n",
    "print(sample['image'].dtype)  # Output: uint8\n",
    "print(sample['image'])\n",
    "plt.imshow(sample['image'])"
   ]
  },
  {
   "cell_type": "code",
   "execution_count": 41,
   "id": "38f352d0-d683-493f-b969-c2dfba4d0166",
   "metadata": {
    "scrolled": true
   },
   "outputs": [
    {
     "name": "stdout",
     "output_type": "stream",
     "text": [
      "TFRecord file saved: data.tfrecords\n"
     ]
    }
   ],
   "source": [
    "import tensorflow as tf\n",
    "import numpy as np\n",
    "\n",
    "def serialize_example(example):\n",
    "    def _bytes_feature(value):\n",
    "        if value is None:\n",
    "            return tf.train.Feature()\n",
    "        if isinstance(value, type(tf.constant(0))):\n",
    "            value = value.numpy()\n",
    "        if isinstance(value, np.ndarray):\n",
    "            value = value.tobytes()\n",
    "        elif isinstance(value, str):\n",
    "            value = value.encode()\n",
    "        return tf.train.Feature(bytes_list=tf.train.BytesList(value=[value]))\n",
    "\n",
    "    def _int64_feature(value):\n",
    "        if value is None:\n",
    "            return tf.train.Feature()\n",
    "        if isinstance(value, np.ndarray):\n",
    "            value = value.flatten()\n",
    "        elif tf.is_tensor(value):\n",
    "            value = value.numpy().flatten()\n",
    "        else:\n",
    "            value = [value]\n",
    "        return tf.train.Feature(int64_list=tf.train.Int64List(value=value))\n",
    "\n",
    "    def _float_feature(value):\n",
    "        if value is None:\n",
    "            return tf.train.Feature()\n",
    "        if isinstance(value, np.ndarray):\n",
    "            value = value.flatten()\n",
    "        elif tf.is_tensor(value):\n",
    "            value = value.numpy().flatten()\n",
    "        else:\n",
    "            value = [value]\n",
    "        return tf.train.Feature(float_list=tf.train.FloatList(value=value))\n",
    "\n",
    "    feature = {\n",
    "        'image': _bytes_feature(example.get('image')),\n",
    "        'image/filename': _bytes_feature(example.get('image/filename')),\n",
    "        'image/id': _int64_feature(example.get('image/id')),\n",
    "        'objects/area': _int64_feature(example['objects'].get('area') if isinstance(example.get('objects'), dict) else None),\n",
    "        'objects/bbox': _float_feature(example['objects'].get('bbox') if isinstance(example.get('objects'), dict) else None),\n",
    "        'objects/id': _int64_feature(example['objects'].get('id') if isinstance(example.get('objects'), dict) else None),\n",
    "        'objects/is_crowd': _int64_feature(tf.cast(example['objects'].get('is_crowd'), tf.int64) if isinstance(example.get('objects'), dict) else None),\n",
    "        'objects/label': _int64_feature(example['objects'].get('label') if isinstance(example.get('objects'), dict) else None)\n",
    "    }\n",
    "\n",
    "    example_proto = tf.train.Example(features=tf.train.Features(feature=feature))\n",
    "    return example_proto.SerializeToString()\n",
    "\n",
    "def write_tfrecords(dataset, filename):\n",
    "    writer = tf.io.TFRecordWriter(filename)\n",
    "    \n",
    "    # Convert the dataset to a Python iterable\n",
    "    dataset_iter = iter(dataset)\n",
    "    \n",
    "    while True:\n",
    "        try:\n",
    "            example = next(dataset_iter)\n",
    "            if example is None:\n",
    "                print(\"Skipping None example\")\n",
    "                continue  # Skip to the next example\n",
    "            else:\n",
    "                tf_example = serialize_example(example)\n",
    "                writer.write(tf_example)\n",
    "        # ... rest of your processing logic for the example\n",
    "        except StopIteration:\n",
    "            break\n",
    "        except Exception as e:\n",
    "            print(f\"Error processing example: {e}\")\n",
    "            break\n",
    "    \n",
    "    writer.close()\n",
    "    print(f\"TFRecord file saved: {filename}\")\n",
    "\n",
    "# Usage:\n",
    "# write_tfrecords(prefetch_dataset, 'data.tfrecords')\n",
    "write_tfrecords(prefetch_dataset, 'data.tfrecords')"
   ]
  },
  {
   "cell_type": "code",
   "execution_count": 59,
   "id": "5e2c063a-c014-4f0a-a5f9-836add5f12e4",
   "metadata": {},
   "outputs": [
    {
     "name": "stdout",
     "output_type": "stream",
     "text": [
      "Processed 100 examples\n",
      "Processed 200 examples\n",
      "Processed 300 examples\n",
      "Processed 400 examples\n",
      "Processed 500 examples\n",
      "Processed 600 examples\n",
      "Processed 700 examples\n",
      "Processed 800 examples\n",
      "Processed 900 examples\n",
      "Processed 1000 examples\n",
      "Processed 1100 examples\n",
      "Processed 1200 examples\n",
      "Processed 1300 examples\n",
      "Processed 1400 examples\n",
      "Processed 1500 examples\n",
      "Processed 1600 examples\n",
      "Processed 1700 examples\n",
      "Processed 1800 examples\n",
      "Processed 1900 examples\n",
      "Processed 2000 examples\n",
      "Processed 2100 examples\n",
      "Processed 2200 examples\n",
      "Processed 2300 examples\n",
      "Processed 2400 examples\n",
      "Processed 2500 examples\n",
      "Processed 2600 examples\n",
      "Processed 2700 examples\n",
      "Processed 2800 examples\n",
      "Processed 2900 examples\n",
      "Processed 3000 examples\n",
      "Processed 3100 examples\n",
      "Processed 3200 examples\n",
      "Processed 3300 examples\n",
      "Processed 3400 examples\n",
      "Processed 3500 examples\n",
      "Processed 3600 examples\n",
      "Processed 3700 examples\n",
      "Processed 3800 examples\n",
      "Processed 3900 examples\n",
      "Processed 4000 examples\n",
      "Processed 4100 examples\n",
      "Processed 4200 examples\n",
      "Processed 4300 examples\n",
      "Processed 4400 examples\n",
      "Processed 4500 examples\n",
      "Processed 4600 examples\n",
      "Processed 4700 examples\n",
      "Processed 4800 examples\n",
      "Processed 4900 examples\n",
      "Processed 5000 examples\n",
      "Processed 5100 examples\n",
      "Processed 5200 examples\n",
      "Processed 5300 examples\n",
      "Processed 5400 examples\n",
      "Processed 5500 examples\n",
      "Processed 5600 examples\n",
      "Processed 5700 examples\n",
      "Processed 5800 examples\n",
      "Processed 5900 examples\n",
      "Processed 6000 examples\n",
      "Processed 6100 examples\n",
      "Processed 6200 examples\n",
      "TFRecord file saved: daisee.tfrecords\n",
      "Processed 6287 examples successfully\n",
      "Encountered 0 errors\n"
     ]
    }
   ],
   "source": [
    "import tensorflow as tf\n",
    "import numpy as np\n",
    "\n",
    "def serialize_example(example):\n",
    "    def _bytes_feature(value):\n",
    "        if value is None:\n",
    "            return tf.train.Feature()\n",
    "        if isinstance(value, type(tf.constant(0))):\n",
    "            value = value.numpy()\n",
    "        if isinstance(value, np.ndarray):\n",
    "            value = value.tobytes()\n",
    "        elif isinstance(value, str):\n",
    "            value = value.encode()\n",
    "        return tf.train.Feature(bytes_list=tf.train.BytesList(value=[value]))\n",
    "\n",
    "    def _int64_feature(value):\n",
    "        if value is None:\n",
    "            return tf.train.Feature()\n",
    "        if isinstance(value, np.ndarray):\n",
    "            value = value.flatten().tolist()\n",
    "        elif tf.is_tensor(value):\n",
    "            value = value.numpy().flatten().tolist()\n",
    "        else:\n",
    "            value = [value]\n",
    "        return tf.train.Feature(int64_list=tf.train.Int64List(value=value))\n",
    "\n",
    "    def _float_feature(value):\n",
    "        if value is None:\n",
    "            return tf.train.Feature()\n",
    "        if isinstance(value, np.ndarray):\n",
    "            value = value.flatten().tolist()\n",
    "        elif tf.is_tensor(value):\n",
    "            value = value.numpy().flatten().tolist()\n",
    "        else:\n",
    "            value = [value]\n",
    "        return tf.train.Feature(float_list=tf.train.FloatList(value=value))\n",
    "\n",
    "    feature = {\n",
    "        'image': _bytes_feature(example.get('image')),\n",
    "        'image/filename': _bytes_feature(example.get('image/filename')),\n",
    "        'image/id': _int64_feature(example.get('image/id')),\n",
    "        'objects/area': _int64_feature(example['objects'].get('area') if isinstance(example.get('objects'), dict) else None),\n",
    "        'objects/bbox': _float_feature(example['objects'].get('bbox') if isinstance(example.get('objects'), dict) else None),\n",
    "        'objects/id': _int64_feature(example['objects'].get('id') if isinstance(example.get('objects'), dict) else None),\n",
    "        'objects/is_crowd': _int64_feature(example['objects'].get('is_crowd') if isinstance(example.get('objects'), dict) else None),\n",
    "        'objects/label': _int64_feature(example['objects'].get('label') if isinstance(example.get('objects'), dict) else None)\n",
    "    }\n",
    "\n",
    "    example_proto = tf.train.Example(features=tf.train.Features(feature=feature))\n",
    "    return example_proto.SerializeToString()\n",
    "\n",
    "def write_tfrecords(dataset, filename):\n",
    "    writer = tf.io.TFRecordWriter(filename)\n",
    "    \n",
    "    # Convert the dataset to a numpy iterator\n",
    "    dataset_iter = dataset.as_numpy_iterator()\n",
    "    \n",
    "    count = 0\n",
    "    error_count = 0\n",
    "    \n",
    "    while True:\n",
    "        try:\n",
    "            example = next(dataset_iter)\n",
    "            if example is None:\n",
    "                print(\"Skipping None example\")\n",
    "                error_count += 1\n",
    "                continue\n",
    "            \n",
    "            try:\n",
    "                tf_example = serialize_example(example)\n",
    "                writer.write(tf_example)\n",
    "                count += 1\n",
    "                if count % 100 == 0:\n",
    "                    print(f\"Processed {count} examples\")\n",
    "            except Exception as e:\n",
    "                print(f\"Error processing example: {e}\")\n",
    "                error_count += 1\n",
    "        except StopIteration:\n",
    "            break\n",
    "        except Exception as e:\n",
    "            print(f\"Error iterating dataset: {e}\")\n",
    "            error_count += 1\n",
    "    \n",
    "    writer.close()\n",
    "    print(f\"TFRecord file saved: {filename}\")\n",
    "    print(f\"Processed {count} examples successfully\")\n",
    "    print(f\"Encountered {error_count} errors\")\n",
    "\n",
    "# Usage:\n",
    "write_tfrecords(da, 'daisee.tfrecords')"
   ]
  },
  {
   "cell_type": "code",
   "execution_count": 76,
   "id": "a721c824-6854-432f-a7ab-b01b9d6ad069",
   "metadata": {},
   "outputs": [
    {
     "data": {
      "text/plain": [
       "<_MapDataset element_spec={'image': TensorSpec(shape=(None, None, 3), dtype=tf.uint8, name=None), 'image/filename': TensorSpec(shape=(), dtype=tf.string, name=None), 'image/id': TensorSpec(shape=(), dtype=tf.int64, name=None), 'objects': {'area': TensorSpec(shape=(1,), dtype=tf.int64, name=None), 'bbox': TensorSpec(shape=(1, 4), dtype=tf.float32, name=None), 'id': TensorSpec(shape=(1,), dtype=tf.int64, name=None), 'is_crowd': TensorSpec(shape=(1,), dtype=tf.bool, name=None), 'label': TensorSpec(shape=(4,), dtype=tf.int64, name=None)}}>"
      ]
     },
     "execution_count": 76,
     "metadata": {},
     "output_type": "execute_result"
    }
   ],
   "source": [
    "da"
   ]
  },
  {
   "cell_type": "markdown",
   "id": "638417c5-64b1-40dd-90cd-55c845514144",
   "metadata": {
    "jp-MarkdownHeadingCollapsed": true
   },
   "source": [
    "# Encode with claude"
   ]
  },
  {
   "cell_type": "code",
   "execution_count": 72,
   "id": "7eb28049-dd7e-4136-ab4f-712071f5211d",
   "metadata": {},
   "outputs": [],
   "source": [
    "def _bytes_feature(value):\n",
    "    return tf.train.Feature(bytes_list=tf.train.BytesList(value=[value.numpy()]))"
   ]
  },
  {
   "cell_type": "code",
   "execution_count": 73,
   "id": "f1d75c7b-7a0b-40c1-94e3-584d8970e888",
   "metadata": {},
   "outputs": [],
   "source": [
    "def _int64_feature(value):\n",
    "    return tf.train.Feature(int64_list=tf.train.Int64List(value=[value.numpy()]))"
   ]
  },
  {
   "cell_type": "code",
   "execution_count": 74,
   "id": "152d9b9c-31e4-46b5-bd97-36797c98dcca",
   "metadata": {},
   "outputs": [],
   "source": [
    "def _float_feature(value):\n",
    "    return tf.train.Feature(float_list=tf.train.FloatList(value=value.numpy().flatten()))"
   ]
  },
  {
   "cell_type": "code",
   "execution_count": 75,
   "id": "9f86fd46-4e8c-4214-a138-68c834814ad7",
   "metadata": {},
   "outputs": [],
   "source": [
    "def _bool_feature(value):\n",
    "    return tf.train.Feature(int64_list=tf.train.Int64List(value=[int(value.numpy())]))"
   ]
  },
  {
   "cell_type": "code",
   "execution_count": 86,
   "id": "62267428-2971-4b5a-a0ad-5e0fa20c8aa7",
   "metadata": {},
   "outputs": [],
   "source": [
    "def jpg_to_tensor(file_path):\n",
    "    # Read the file\n",
    "    image_raw = tf.io.read_file(file_path)\n",
    "    \n",
    "    # Decode the JPG image to a uint8 tensor\n",
    "    image_tensor = tf.io.decode_jpeg(image_raw, channels=3)\n",
    "    \n",
    "    # The resulting tensor will have shape (height, width, 3) and dtype uint8\n",
    "    return image_tensor"
   ]
  },
  {
   "cell_type": "code",
   "execution_count": 125,
   "id": "56070b09-6d1c-41e3-89c4-e23c1bbcf4b0",
   "metadata": {},
   "outputs": [],
   "source": [
    "def serialize_example(example):\n",
    "    feature = {\n",
    "        'image': _bytes_feature(jpg_to_tensor(f\"{example['path']}\")),\n",
    "        'image/filename': _bytes_feature(example['image/filename']),\n",
    "        'image/id': _int64_feature(example['image/id']),\n",
    "        'objects/area': _int64_feature(example['objects']['area'][0]),\n",
    "        'objects/bbox': _float_feature(example['objects']['bbox'][0]),\n",
    "        'objects/id': _int64_feature(example['objects']['id'][0]),\n",
    "        'objects/is_crowd': _bool_feature(example['objects']['is_crowd'][0]),\n",
    "        'objects/label': _int64_feature(example['objects']['label'][0])\n",
    "    }\n",
    "    example_proto = tf.train.Example(features=tf.train.Features(feature=feature))\n",
    "    return example_proto.SerializeToString()"
   ]
  },
  {
   "cell_type": "code",
   "execution_count": 126,
   "id": "8b08a0d0-4b75-46c5-95fa-638bd8dc8464",
   "metadata": {},
   "outputs": [],
   "source": [
    "def dataset_to_tfrecord(dataset, filename):\n",
    "    with tf.io.TFRecordWriter(filename) as writer:\n",
    "        for example in dataset:\n",
    "            tf_example = serialize_example(example)\n",
    "            writer.write(tf_example)"
   ]
  },
  {
   "cell_type": "code",
   "execution_count": 127,
   "id": "10c8a549-724f-4607-bb81-ec7f6b84d041",
   "metadata": {},
   "outputs": [
    {
     "ename": "TypeError",
     "evalue": "string indices must be integers",
     "output_type": "error",
     "traceback": [
      "\u001b[0;31m---------------------------------------------------------------------------\u001b[0m",
      "\u001b[0;31mTypeError\u001b[0m                                 Traceback (most recent call last)",
      "Cell \u001b[0;32mIn[127], line 1\u001b[0m\n\u001b[0;32m----> 1\u001b[0m \u001b[43mdataset_to_tfrecord\u001b[49m\u001b[43m(\u001b[49m\u001b[43mprocessed_Data\u001b[49m\u001b[43m,\u001b[49m\u001b[38;5;124;43m\"\u001b[39;49m\u001b[38;5;124;43moutput.tfrecord\u001b[39;49m\u001b[38;5;124;43m\"\u001b[39;49m\u001b[43m)\u001b[49m\n",
      "Cell \u001b[0;32mIn[126], line 4\u001b[0m, in \u001b[0;36mdataset_to_tfrecord\u001b[0;34m(dataset, filename)\u001b[0m\n\u001b[1;32m      2\u001b[0m \u001b[38;5;28;01mwith\u001b[39;00m tf\u001b[38;5;241m.\u001b[39mio\u001b[38;5;241m.\u001b[39mTFRecordWriter(filename) \u001b[38;5;28;01mas\u001b[39;00m writer:\n\u001b[1;32m      3\u001b[0m     \u001b[38;5;28;01mfor\u001b[39;00m example \u001b[38;5;129;01min\u001b[39;00m dataset:\n\u001b[0;32m----> 4\u001b[0m         tf_example \u001b[38;5;241m=\u001b[39m \u001b[43mserialize_example\u001b[49m\u001b[43m(\u001b[49m\u001b[43mexample\u001b[49m\u001b[43m)\u001b[49m\n\u001b[1;32m      5\u001b[0m         writer\u001b[38;5;241m.\u001b[39mwrite(tf_example)\n",
      "Cell \u001b[0;32mIn[125], line 3\u001b[0m, in \u001b[0;36mserialize_example\u001b[0;34m(example)\u001b[0m\n\u001b[1;32m      1\u001b[0m \u001b[38;5;28;01mdef\u001b[39;00m \u001b[38;5;21mserialize_example\u001b[39m(example):\n\u001b[1;32m      2\u001b[0m     feature \u001b[38;5;241m=\u001b[39m {\n\u001b[0;32m----> 3\u001b[0m         \u001b[38;5;124m'\u001b[39m\u001b[38;5;124mimage\u001b[39m\u001b[38;5;124m'\u001b[39m: _bytes_feature(jpg_to_tensor(\u001b[38;5;124mf\u001b[39m\u001b[38;5;124m\"\u001b[39m\u001b[38;5;132;01m{\u001b[39;00m\u001b[43mexample\u001b[49m\u001b[43m[\u001b[49m\u001b[38;5;124;43m'\u001b[39;49m\u001b[38;5;124;43mpath\u001b[39;49m\u001b[38;5;124;43m'\u001b[39;49m\u001b[43m]\u001b[49m\u001b[38;5;132;01m}\u001b[39;00m\u001b[38;5;124m\"\u001b[39m)),\n\u001b[1;32m      4\u001b[0m         \u001b[38;5;124m'\u001b[39m\u001b[38;5;124mimage/filename\u001b[39m\u001b[38;5;124m'\u001b[39m: _bytes_feature(example[\u001b[38;5;124m'\u001b[39m\u001b[38;5;124mimage/filename\u001b[39m\u001b[38;5;124m'\u001b[39m]),\n\u001b[1;32m      5\u001b[0m         \u001b[38;5;124m'\u001b[39m\u001b[38;5;124mimage/id\u001b[39m\u001b[38;5;124m'\u001b[39m: _int64_feature(example[\u001b[38;5;124m'\u001b[39m\u001b[38;5;124mimage/id\u001b[39m\u001b[38;5;124m'\u001b[39m]),\n\u001b[1;32m      6\u001b[0m         \u001b[38;5;124m'\u001b[39m\u001b[38;5;124mobjects/area\u001b[39m\u001b[38;5;124m'\u001b[39m: _int64_feature(example[\u001b[38;5;124m'\u001b[39m\u001b[38;5;124mobjects\u001b[39m\u001b[38;5;124m'\u001b[39m][\u001b[38;5;124m'\u001b[39m\u001b[38;5;124marea\u001b[39m\u001b[38;5;124m'\u001b[39m][\u001b[38;5;241m0\u001b[39m]),\n\u001b[1;32m      7\u001b[0m         \u001b[38;5;124m'\u001b[39m\u001b[38;5;124mobjects/bbox\u001b[39m\u001b[38;5;124m'\u001b[39m: _float_feature(example[\u001b[38;5;124m'\u001b[39m\u001b[38;5;124mobjects\u001b[39m\u001b[38;5;124m'\u001b[39m][\u001b[38;5;124m'\u001b[39m\u001b[38;5;124mbbox\u001b[39m\u001b[38;5;124m'\u001b[39m][\u001b[38;5;241m0\u001b[39m]),\n\u001b[1;32m      8\u001b[0m         \u001b[38;5;124m'\u001b[39m\u001b[38;5;124mobjects/id\u001b[39m\u001b[38;5;124m'\u001b[39m: _int64_feature(example[\u001b[38;5;124m'\u001b[39m\u001b[38;5;124mobjects\u001b[39m\u001b[38;5;124m'\u001b[39m][\u001b[38;5;124m'\u001b[39m\u001b[38;5;124mid\u001b[39m\u001b[38;5;124m'\u001b[39m][\u001b[38;5;241m0\u001b[39m]),\n\u001b[1;32m      9\u001b[0m         \u001b[38;5;124m'\u001b[39m\u001b[38;5;124mobjects/is_crowd\u001b[39m\u001b[38;5;124m'\u001b[39m: _bool_feature(example[\u001b[38;5;124m'\u001b[39m\u001b[38;5;124mobjects\u001b[39m\u001b[38;5;124m'\u001b[39m][\u001b[38;5;124m'\u001b[39m\u001b[38;5;124mis_crowd\u001b[39m\u001b[38;5;124m'\u001b[39m][\u001b[38;5;241m0\u001b[39m]),\n\u001b[1;32m     10\u001b[0m         \u001b[38;5;124m'\u001b[39m\u001b[38;5;124mobjects/label\u001b[39m\u001b[38;5;124m'\u001b[39m: _int64_feature(example[\u001b[38;5;124m'\u001b[39m\u001b[38;5;124mobjects\u001b[39m\u001b[38;5;124m'\u001b[39m][\u001b[38;5;124m'\u001b[39m\u001b[38;5;124mlabel\u001b[39m\u001b[38;5;124m'\u001b[39m][\u001b[38;5;241m0\u001b[39m])\n\u001b[1;32m     11\u001b[0m     }\n\u001b[1;32m     12\u001b[0m     example_proto \u001b[38;5;241m=\u001b[39m tf\u001b[38;5;241m.\u001b[39mtrain\u001b[38;5;241m.\u001b[39mExample(features\u001b[38;5;241m=\u001b[39mtf\u001b[38;5;241m.\u001b[39mtrain\u001b[38;5;241m.\u001b[39mFeatures(feature\u001b[38;5;241m=\u001b[39mfeature))\n\u001b[1;32m     13\u001b[0m     \u001b[38;5;28;01mreturn\u001b[39;00m example_proto\u001b[38;5;241m.\u001b[39mSerializeToString()\n",
      "\u001b[0;31mTypeError\u001b[0m: string indices must be integers"
     ]
    }
   ],
   "source": [
    "dataset_to_tfrecord(processed_Data,\"output.tfrecord\")"
   ]
  },
  {
   "cell_type": "code",
   "execution_count": 14,
   "id": "e5a4eaef-587d-476a-8090-f45cf2c2ac9f",
   "metadata": {
    "scrolled": true
   },
   "outputs": [
    {
     "data": {
      "text/plain": [
       "b'\\xff\\xd8\\xff\\xe0\\x00\\x10JFIF\\x00\\x01\\x02\\x00\\x00\\x01\\x00\\x01\\x00\\x00\\xff\\xfe\\x00\\x10Lavc60.31.102\\x00\\xff\\xdb\\x00C\\x00\\x0822;2;DDDDDDQKQTTTQQQQTTTZZZjjjZZZTTZZddjjsvsmmjmvv}}}\\x96\\x96\\x8f\\x8f\\xaf\\xaf\\xb5\\xd7\\xd7\\xff\\xff\\xc4\\x00|\\x00\\x00\\x01\\x05\\x01\\x01\\x01\\x00\\x00\\x00\\x00\\x00\\x00\\x00\\x00\\x00\\x00\\x00\\x05\\x03\\x04\\x02\\x01\\x06\\x07\\x08\\x01\\x00\\x03\\x01\\x01\\x01\\x01\\x00\\x00\\x00\\x00\\x00\\x00\\x00\\x00\\x00\\x00\\x00\\x01\\x02\\x03\\x04\\x05\\x06\\x10\\x01\\x01\\x00\\x02\\x01\\x03\\x03\\x02\\x06\\x02\\x03\\x01\\x01\\x00\\x00\\x00\\x00\\x01\\x02\\x11\\x121!\\x03Q\\x13Aq2\"\\x91a\\x04\\x14\\xf0B\\x81\\xb1\\xc1R\\xa1b\\x11\\x01\\x01\\x01\\x01\\x01\\x00\\x03\\x01\\x01\\x01\\x01\\x00\\x00\\x00\\x00\\x00\\x00\\x01\\x11\\x021A!\\x122\\x81\\x03Q\\xff\\xc0\\x00\\x11\\x08\\x01\\xe0\\x02\\x80\\x03\\x01\"\\x00\\x02\\x11\\x00\\x03\\x11\\x00\\xff\\xda\\x00\\x0c\\x03\\x01\\x00\\x02\\x11\\x03\\x11\\x00?\\x00\\xee\\x80\\x06\\xd9\\xa0,\\r\\x81\\xa0\\x10\\x01\\xa01\\xa0\\x00\\x00\\x005\\x8da\\x80\\x00 \\x16\\x00\\x1b@\\n \\x00\\x00\\x00\\x00hcL,\\x14i\\x92\\xc1Pd\\xb3Th\\x0b\\x85Z\\t\\xadT\\x19\\xac\\xd5@5\\xc2\\x8d\\tX*\\x008\\xb1\\xb5\\x94K\\xb5@d\\xb86\\xd3%\\x9a\\xa0\\x06\\xb3\\x15`&\\xa8\\x18F\\x18\\x18\\x03B\\x80\\x8df(\\xc2\\x0b\\xaa\\xc6\\x00\\xb3\\x15\\x04\\x16\\n\\x80\\x00\\x0c\\x01\\xa1\\x8c\\x01v0\\x10Y\\x8a\\xb0\\x05\\x82\\x80\\x05\\x82\\x80\\x06\\xb00\\x05\\x9a\\xc0\\xc9\\xabZ\\xc6\\x80\\xd0\\x000\\x00\\x01\\xa1\\x8d2\\x00\\x020\\x00\\x00\\x00\\x02@\\x00\\x06\\x86\\x03\\x00\\x05\\x08.\\r4\\x03\\xa0\\xdbT\\x0e\\x83m\\x01p\\xa8PX*\\x00\\\\*\\x0c\\x8e\\x05\\x1a\\x02\\xe1@d\\xb8Q\\xa0,\\x18\\x01.p\\xca\\xe6\\x16b\\xa0\\xc9v\\x9b\\x06G\\x15T\\x00\\xd0\\xc6\\x00\\x15b\\xa4k1V\\x10Y\\x8c`\\x0b*\\x15 \\xb3\\x15`\\x0b\\x85\\x18\\x02\\xe1@\\x03C\\x18Av0\\x00\\x03\\x18\\x02\\xc1F\\x80\\xb3\\x14`\\x0b\\xb0\\xd8\\x01p\\xa0\\x04\\x90\\xd65\\x8bp\\xd6\\x03\\rj\\xab\\x03\\x00\\x00\\x1a\\x18\\xd3\\x00\\x00@\\x00\\x00\\x00\\x00@\\x00\\x00`T\\x1a\\xca5P\\x85C\\x14\\n:\\r\\x00\\x0f\\x03K)\\'\\x02\\x81Fx(\\x12GB\\x8dQ\\xac\\x18\\x0140\\x00\\xd0\\xc0ap\\xa3@]c-R\\x0e\\xb5\\x1fcfI\\x0c1\\xb6l\\x04\\x85L\\xed]\\x98Ib6\\xdb\\xb2\\x07Xcl\\xd9\\x04\\x86\\x1bi\\x1a\\xca\\xb1\\x80,\\xc60\\x06\\xb1\\x8c\\x01v*\\xc0K1@\\x02\\xe1F\\x03:\\r0\\x88\\xf2\\xaa*\\x02\\xe1F\\x00\\xb04\\xc0G\\x18m\\xa0\\xce\\x03k\\x11&\\xb5\\x16]\\xa51n\\x00i\\x98\\x00\\x10X\\x00d\\x15c\\x01\\xae\\xc5Xdp\\x1b\\x04\\x0e\\x83 \\xcc\\xe84\\x01.\\x14h\\x0b(\\xc6\\x104l#))mD>\\x01\\xe6\\x86\\x855v\\xb4\\x80k\\x02\\x89\\xa1\\x80\\x12\\xc1V\\xac4*\\xd0\\x1a\\xc0\\x00\\x01\\x80\\x04<\\xa9\\x1b\\x95+\\xe5\\xd0\\x8d&\\xea\\x99\\x9a\\xe5V\\xe5J6Bf\\x94\\x83\\xbc\\xa8\\xe5M\\xe9\\xbaRW\\xe5Y\\xca\\xab\\xa6h\\x13wLn\\x9d\\xd1Fw%\\x12\\xb7Jx\\xf7F\\xc8\\xa1\\x8a\\x16T\\n\\x82SB\\xac\\x01f*\\x00k\\x15\\x04\\x1a\\xc60\\x82\\xea\\xaa\\x0c\\x00\\x18D\\xd6*\\xa85\\xd4U\\x80\\x97a\\xa6\\x00q\\x88\\x8a\\x99\\'.\\x86t\\xcc\\xfb\\r\\x84\\x92\\x0e\\xb5\\xd0\\xa52\\xdb\\x9a\\x99h\\xa9\\xda\\xf4b\\xd9\\xd2.B\\x96\\xce\\xa5\\x8d\\x85\\x1c\\r\\x0004\\x18\\n.\\x08\\x19a\\xc5\\x0c1U\\x95\"b\\xab\\xaa\\x0c\\xda\\xa7\\x144\\x9b5\\xb4\\xad+\\xa3\\x066\\x8f\\xb4\\xed\\x13\\x14\\x91\\xb5\\xb6\\xcdl\\xfe\\x80l\\xa9\\xe8\\x1a;\\xb24\\xd5\\x91\\x0f\\x12\\x8f\\x83k\\x18X\\x00AeX\\x00kX\\x14\\x90\\x00\\x00\\x061A`\\xa80\\x8f\\x97BN=K\\x14\\x93\\r\\tu\\x19{Q;\\xa9\\x07\\xda\\x8d\\xdcwRRXg\\xb8\\xee\\x01\\xd4\\x98\\x82~%JR\\x9c\\'\\x95\\x10\\xb3\\x8cT\\x18k\\x18\\x00\\n\\x80\\x90\\xd61\\x805\\x8a\\xb0\\x05\\xd5c\\x00h`\\x00*\\xb2\\xa0\\x83\\x02\\xa0\\x06\\x00\\x01\\xa6\\x1d6dq\\xa0\\x11\\x85\\x94\\x06D\\x1e)2X\\xe8\\xb8\\xb7\\x8b&\\xa4n\\xe90\\xa3\\xc5\\xba%-*Z.\\x8f\\x92\\x97\\x00\\x00\\xd61P\\x0e1\\x8a\\x990\\xd9\\xe6\\x00\\xaa\\xa7\\xda\\x01\\x86\\x9ea\\x03j\\xae\\x00G\\'\\xd2\\x9a\\rRNH\\xba\\x87\\x01\\x9a\\x07\\x16\\x01\\x18$\\x9b\\x04\\xc5\\xd5X\\x1a\\xed4\\xb8\\x07\\x162\\xd0\\x0e\\x85B\\x82\\xca\\x86\\x02k\\x000\\x00\\x06\\x15B\\xd2x\\tC\\xd0\\xd2c\\x14\\x94M7IJ\\x90G\\xd3t\\x90\\xc3\\x064\\xcd$0\\x82>\\x92\\x02\\xa4\\x1a\\x18\\x00\\x01\\x80\\x00\\x18\\x00\\n\\x86\\x00\\xd6\\x00\\x03\\x15\\\\\\x00\\x00\\x00*\\xc5\\x81\\x92\\x81p`\\xdb\\x0e\\x80\\x11\\xcc\\xa9\\x95D\\xd9\\x11L#\\xec\\xf8\\rX\\x1c0Si\\xb5\\x9c\\xee\\x83\\x81F\\x80\\xb0U\\xa0,\\x15h\\x0b*\\x1aA\\x80\\x03600\\x13Z\\xa8\\x00\\xe02\\xc3\\x07\\x98mP\\x0cetJ\\xd9CG\\xae\\x9a!\\x16T\\xc4\\r&BRHcP`\\xd9\\xe5@2\\x0f\\x00F\\x9a\\xbb@6\\xd5\\x98\\x03C\\x01\\x80\\x00\\x00\\x06\\x05\\x13B\\x8dPX*\\x0c\\x83\\x1a\\x08\\x98\\x00RZ\\x15\\x04mT0\\x8800)\\xa1\\x80\\x10\\x0c`%\\x83\\x18\\x00\\x0c`\\x00*\\x01\\x06*\\xc0\\x1a\\x18\\xc3\\x0b1\\x80\\x05\\xd8\\xa2\\xc04\\xd9\\xc6\\x82B\\\\\\xf6\\x81\\x83G\\xd8\\x0c\\x97\\n0\\x82i\\xc4&\\xb0n\\x98\\xb2#v\\r,#\\xaeFx\\x1ba\\x92CL,Fx\\x1ah\\x07\\x15U\\xa05\\x80\\x00\\x1a\\xc6\\x98h` \\x15Y\\x86\\r\\x1b\\xd1\\xf6\\x19\\x18\\x07\\x95\\x00\\xda\\xca\\x80\\x17X\\xd8\\x00\\xe0Q\\xa0.\\xd5\\x00\\x0b\\xaa\\xa8\\x01v*\\xc5\\x12\\xecT\\x00\\xd0\\xabA40,,\\xc5A\\x12\\xc1P\\x02\\xccc\\x00\\x0cc\\x01,\\xc5@\\r\\x0c`&\\x85@\\x0b\\x06\\x00\\x00`\\x04\\xc6.\\xa1\\x86(qC\\x0c\\r\\x04Au\\x163Ye\\x01\\x06\\x86\\x03KU\\x00\\x05B\\xc0\\x05B\\xc0\\x04\\x11\\xb4-\\x8d\\xb3Rv\\xc6\\xd0@2\\x8e\\xcel\\x97\\xb6\\xec\\x19cgH\\xdb=\\xb2\\x05u\\x89\\x9b?\\xb4\\xad5\\xa8\\x8b\\x83I\\x06\\x16 |\\x1a\\x00\\x1da\\xb0`\\xe84\\x0c\\x1d\\x06\\x80\\x07A\\xa0\\x01\\xd6\\x1a\\x00\\x1ca\\xb6\\x90\\\\\\x1ba\\x91\\xd0i\\x80\\x1eT\\xd0\\x00\\xe0Q\\x86K\\xaa\\x89\\xb4;\\x92\\xc8\\xab\\xb4\\x977\\xc8\\xf7#Im\\x84ne\\x9cr\\x80\\x00u\\x14\\x94u\\x8a0\\x05\\xd8\\xa3\\x02N\\xb1@\\x02\\xccUP\\x0e*\\xa3\\x0c\\xce\\x03M\\x04\\xb86\\x02N0\\xdb\\x00]c\\nl\\x04\\xa6!\\xed\\x9b\\tMb\\x1e\\xd8\\r1\\x88-\\x010\\x13\\x97\\xd9\\x92pC\\xd8\\xd8\\t\\x81\\x17kl\\x89)\\x88\\xfbf\\xcc%\\x04M\\x8d\\x98Kb.\\xc6\\xc0%00\\x8844\\x13\\x1a\\x1a\\x00\\x0cX\\x03\\xc7\\xf6\\x8at\\x96\\x97\\xb3\\xdbD:JJ\\xda\\xdbFX\\x8d#m\\xda:\\xc0\\x1e\\xd8\\xd9\\x90\\x01\\xdd\\x8d\\x9a\\x00\\x8fll\\xd3\\x08\\xce\\xed]\\xa8\\xc5\\x05\\xf6\\xa2\\xad\\x04\\xd0\\xb3\\x0c\\x98\\x1a\\x00T\\x99\\xbaS&\\x9aR\\xe5IB\\x86\\xb9\\x05\\x16\\x15\\xecI\\xe6\\x8f\\xbdU\\x04\\xe2\\x1d\\xabe\\x9e\\x88\\x9bA\\xa4]\\xc4.G\\xb9\\x19\\xde7\\xe0\\xc9]\\x95&U\\x0bX\\xb3s\\xe1D\\xe9\\xe6I|\\xb6\\xe3\\x92\\xf6\\xa2vK\\x12w\\xa8Q\\x97\\xd5\\n8\\xc3\\xba3\\xd8\\x06\\x85\\x9a@\\xd2\\xa7\\xd5\\x00\\xd2\\x87\\xd4\\xa0\\x94Y\\x8b)*\\x85\\x95\\t\\x00\\x00\\xa5\\r\\x9c4\\x12u`\\xd0\\x18\\x1a\\x01*\\xc5\\x80\\x06M\\x9e6\\x08\\x06\\xac\\x084.\\rU\\x0e\\xb4\\x1a1\\xd5\\rr\\x04}\\xa8\\xdbf\\xcc(\\x17\\t5\\x1a\\xd5\\x81\\xa8\\xd5\\x80\\x0ckZ@\\x1cP\\xe0Y\\xc3\\xa6\\x8e\\x91\\xae\\xd64\\x8dp\\xd6\\x80\\xd0\\x00\\x0c\\x0b0\\x05CA\\x86\\x00\\x00c@\\x01`\\xd0\\x02\\xacY\\x80*N(\\xb8\\x8c\\xf2RK<\\xe4\\x95\\xcbs&Z\\x8c`\\xa9\\xc8r 0\\x81[kl\\x94\\xd34\\xd0\\x8cY0\\x87\\xb5c)\\xb3#\\xd6\\x9e\\x94\\x9e|!\\xd9\\xcaVy\\xf6\\xdd\\x0e9\\x05:\\x88\\x96\\xe6\\xb9\\x97%\\xdcB\\xd3\\x18\\xb2*\\x16}\\x88\\xecHIUC\\xaa#-X5b\\xa8X\\x10US\\x80\\x11\\xa3g\\xd42\\\\.\\x08\\xd4b\\xe0\\xc9@\\xb8 d\\xd9\\xf3&@,\\xd0J\\xae\\xc5\\x88\\xc2\\xf1\\x87!\\x835]\\x1d\\xa8\\xfd\\xd2\\xd1e\\xd8\\xa84P\\xd0\\x10\\xc0\\xd0F\\xc6\\xb4\\x02cCA\\xb5eV\\x06\\xb9\\xd3GIG\\x166\\xb9\\x19\\xc5\\x98\\xb0\\x00\\x00\\x03\\x00\\x06\\x00\\x00\\x00\\xc6\\x80\\x15\\x01\\xa04\\x00\\x03T\\\\\\x99\\x9d\\xd4\\x04K\\xcf/\\x87\\x05iC*\\xe7\\x8c\\x1c\\xd86h\\x11\\xf5\\r\\xd5\\x80:\\xb3\\x0e\\x186\\x9d)\\xa3@\\x14\\xfa\\xaaO\\xdaF\\xcc\\xc5a\\xd5M\\'\\x0e(\\xb9\\x83\\x9b)\\xe3\\x96\\x9c\\xfaD\\xa4oU\\x97q\\x8ek\\x0c\\xb4]\\x97l+P\\xc3\\x8cpcp\\x92a!\\xd3\\x19\\xd3m\\x01\\xda\\xe5`h\\x04\\xc0\\xd0\\tSg\\x8d\\x80p5\\xa0*\\x17\\x00(\\xd5\\xc0\\x06L\\xa5\\xa3\\x82Q\\xa7\\x1adme\\x97 \\xa9\\xf9\\x18S\\xc7-\\x18E\\xcb\\x1d!h\\xad\\x95\\xda95S]\\x91\\xf4U\\xf8F#s\\xa04\\x90\\x00\\x04\\xa0\\xb0\\x06\\x00\\x00\\x83Z\\xc6\\x80\\xb1\\xc3k\\x83\\\\\\xe9\\x83\\xc4gWQrS\\x00\\x06A\\xac\\x004\\x00@\\x00\\x00Q]\\xe9dl\\xa6\\xe5\\x86\\x10\\xbd\\xcc[\\xeec\\xea\\xe7\\xe7\\x8f)\\xe8\\xb7\\x0c\\xbfD)\\xd1{\\x98\\xfa\\x91\\xb3\\xcaT\\x0e\\x19\\x93\\xf2\\xdc\\xeadA\\xa8\\xc7\\x8d-\\x06\\xcd1\\x84mj\\xfaa\\x03\\xc9\\x8811d\\xa5\\x88i\\xca\\xd8\\x01\\x93\\xa74~CR\\x87\\x0fiB\\t\\x16\\xa3\\xd3\\x86-\\xda\\x90\\x8cz#\\x1c\\n.\\xe3]V.\\x0c\\xbb\\x85\\xef\\x10\\xa7j\\xa9\\xc0\\xf2\\x9d\\n&#%:\\xa3:af5\\xdc\\xe5`kA*\\xd5\\x98\\tSg\\x8d\\x00\\xbbB\\xc6ma\\xbd\\xc1\\xb8Dx\\x19\\xdcn\\xf6\\rsG\\xcc\\x195\\xachH]U\\x81\\x9c;\\r\\xac\\x02K4q\\xa4\\xd4\\xca\\xe6\\xb4~\\x03s*\\xb2\\xb9\\xbb\\x9d\\x89C\\xa7\\x0e;\\xdc\\x1e\\xe9\\x93\\xb1\\x0e;\\xdc\\x1e\\xed\\x01\\xd9\\x07\\x15\\xeeU}\\xca\\r\\xdb\\x87\\x13\\xeeU=\\xcad\\xee\\xc3\\x86\\xf7+=\\xcaJwg\\xdc?\\x8f+k\\xb7J\\x92W6q*`\\x00\\xc0\\x01\\xa0\\x00\\x00\\x0c\\r`\\x01eV\\x01f1\\xa4\\x18\\xe1|\\xd3\\xe5\\xdc\\x93\\xb3\\x9b\\x80\\xde:ez\\x8eh\\\\\\xab\\x8c5\\x8c\\xdb\\xa0\\xd36\\xc8\\xba@\\xb0\\xba\\x8c\\xcd\\xa9\\x07G\\n\\x86t\\xb4b\\t\\xe4\\xbd\\x1d\\x06bD\\xa5\\xd7J\\xd51\\xa4\\x95IH\\xc8\\xfa(\\x9e\\xd2\\xd9\\xb9\\xed\\x19u\\x1asYF\\xac\\x1b\\xb2\\xae=He|z\\xa9/P\\x8b\\xa9\\x0e\\xb9\\xbe\\xdb0\\xf9\\x94\\x85\\xa5\\x1d\\xa1\\xae\\x973\\x1a\\x1a\\x03\\x02\\xc0\\x05\\r\\x9e4\\te\\xd58\\r\\xcbkyi+\\x84\\x84\\xebx\\xe6n\\xe7\\xb6\\x9fh\\xfaJ\\xec\\xbf\\x8f\\xa9\\xbeX\\xcf\\x85|wy\\x00\\xebL\\x9f2\\xcc\\xd8\\xd0\\x01\\x06\\xb5\\xa6\\x0e\\xae\\xc3\\x84g\\xc2I\\xe2jMjv\\x91~I\\xa3\\x92\\xbd\\x1cnn\\xb7.\\x8e;59\\xaa\\x03Z\\xb3\\xa9\\xcc\\xa3W`\\n\\x85v\\xb0R\\xa1v\\x04(\\x93\\x8fS\\tX\\xfc\\xa5i\\xbe?\\xb9\\xdd8\\xbf\\x17Z\\xeb\\xe3\\x9e\\xba\\xa2y\\xc3G\\x18\\xb5h\\x00\\x06\\x00\\x0c4\\x00A\\x80\\x03\\rX\\xda\\xe0\\x99XE\\xf2u7\\x97\\xc3\\n\\xe9-\\xe9\\x9ab\\xcc\\x94\\xf3\\x0f6\\x1a\\xbb\\xf5r\\x8fU\\xf3\\xfd\\xaf.v8\\xdd&3\\xb1I\\x1atJs;\\x01\\xb4\\x85Ihj\\xa6\\xb4\\x8c\\x9cq3Gd\\x00\\xe7\\x16q(m\\x1b`\\x91\\xb4\\x8b\\xa2\\x91\\x824D\\xd5\\x13\\xda3BsY\\xba\\xab\\x08\\x19\\xc52\"\\x14\\xf1$\\x15qt0zF=\\x13\\x88\\xf8WA\\xa75\\xd6\\xa6\\x12U\\xd1\\xc2\\x9af\\x1a\\x16v\\xb9@\\x00\\x10\\x00\\x02\\x06\\x0f\\x98\\x01c\\xa8\\xe9 \\xde}\\xe5\\x97\\x97e\\xe6VN\\x89~Kf]\\xbeQo7-\\xff\\x00\\x1b\\x9e\\xe5}\\x19\\xe3\\xdf.\\x9a5\\xf8\\xcfco)*\\'\\xf8n\\xec\\xcaA\\xa7k\\x98\\xd8hQ\\x06\\x86\\x80|\\xe9\\xb3\\x86\\n\\'\\x11\\xd1\\xf6\\x86\\xc5\\x1d\\xa8K\\xe5\\x13\\x02\\x9c\\x0eNO.\\xae\\xa3\\'\\'\\x98s\\x185\\xb4-\\xa2\\xafO\\x12\\xb9\\x19\\xd9\\x969\\x1d\\x07\\x06\\xd4a\\x82\\xd9\\xc2~)\\xae\\xe7\\x13ODuTN\\x8f\\xc5\\xf2\\xea\\\\\\xbf\\x8b\\xe5\\xd39k\\xa5<\\xfa<Hf\\xd9p\\xc0\\x08\\x06\\x80\\x00c\\x00YV0\\x108`\\xec3\"\\xe7\\xa4~\\xdbI\\xcb\\x1d\\xd3<\\x7f\\x13\\x99\\xd4\\xe9\\x14\\n9\\xd4E\\xf2\\xdf\\xc3^@\\xf6?$\\xdcx\\xfdz.\\'Y:\\x1fA\\xc3\\xa2>NWYW\\x94f\\xdc\\xdfviiu;:\\xe3\\xfb\\xc2\\x94\\xc9\\x9bG@\\x11%:\\xcd\\xa1\\xdd\\x98\\xdbI\\xd5i=r\\'\\xf2P\\xf3V(\\xdb\\xa9r\\x9d\\xdaF\\x8c\\x16\\xa5\\xdc\\'\\xe5\\xd1\\xb0\\xedI\\xb8t\\xd8\\x8bz\\x9ct9\\x9d\\xef\\x8e\\xba\\xed\\xbc\\xdf\\xc5\\xba\\xf4e \\xf0`4\\xaa\\xb0\\x06\\x90\\x00\\x00\\x06\\x83&#\\xa4\\x18#Q9\\x00\\xa0\\x03\\x88\\xf2M\\xe5\\x115~k\\xb0\\xcb\\t\\x97Tok\\x175\\x8e\\x97?\\xaf\\xff\\x00F$\\xd6s\\xbe\\xddW\\xb5\\x89\\xc9\\xe3\\xc6&LV\\xc2\\xc9\\xa3\\xcc\\xae\\xc7!\\x86\\xac\\xd5!E\\x9a\\xd0\\x16Y\\xad3H4y\\x14\\x9a\\x10.7n\\x83\\x1e\\xd1c\\xc0<\\xe7\\'\\x17\\x9fT\\xab\\x86S\\xe4\\x83n\\xd8\\x19\\xb6\\x00\\xc5\\xb0\\x01\\xa0\\x06\\x83\\xda\\xec\\t\\xb8\\x94\\x88\\xe9<\\x9dR\\xb9\\xeai\\x92v\\xea\\x83F=\\x03\\xc5\\xd1\\xd18?\\x1ez\\xec\\xed\\xd0\\xd4\\xab\\x12\\x10\\xe2J\\x16p*\\xc3\\x0b4\\xd8\\x04\\xb0P\\xd9\\x91\\xd5L\\xaa\\x08\\xeaD@I\\x80\\n\\xa4\\xbaIc\\x1ctj5\\xb6\\xa4E\\xce\\x16\\r&e\\x1e?\\x97Z\\xf6\\x1c\\xfbG\\x9cg\\x8e\\xbf\\xdbw:&7\\xb2^\\xaa6%v\\x0e\\x92~\\x94\\xd5>\\x91q\\xec\\xa2#\\xea\\x98H<\\xb4+*o(\\x87~\\x12\\xe7\\x8flZ\\xa9\\xc9\\x17l\\xb8\\xea\\x9f2F\\xeep\\xecm\\xee\\xb4\\xab?\\xbf\\xdd$\\xf7^n\\x1d\\xd0\\x0c\\xdd\\xf4;\\xb3\\xf0\\x85\\x97\\xfd\\xa5Fn6\\xee\\xa9\\x0b\\xf9_\\xc3\\xaf\\xa1%\\xa3\\'u\\xe3\\xc6H\\xe9\\x08~>\\x85\\xc6\\xac@cT\\x80\\x18\\x014\\x00f\\xd0\\x00&\\x1a<h\\x81\\x82\\x918\\xa3\\x0c,\\xb0X\\xc8\\x06\\xacf\\r\\x9eT\\x11\\x86\\xac\\x0c\\x95Y\\xab\\x00\\xd6\\xac\\x009\\rXv\\x1e\\nB]f\\x11\\xbc\\xb6\\xd7\\x11z\\xba<n\\xe1\\n\\xb0R\\x13\\x124{Nv\\xe8\\xc7\\x134{D\\xd1\\x07F{\\x94P\\xee\\xc8\\xd16l\\xee\\xaf\\xa2\\xfa\\xbe\\x95\\xa3\\x00ki\\x1a\\xbe\\x95^7\\xd2\\x83Z=\"<\\xe2c\\x96\\xfaW\\xa1\\xcd\\xb4\"\\xccN&B\\x80\\x07B\\x8d\\x01e\\x1a\\xaa\\x89\\x86\\xce\\xea\\xa9\\xaa\\x08\\xda\\xa7\\xb5Y\\xaahFJ\\x86\\xf5R$\\xa04\\x1e\\xd5\\x1a\\xa0\\xc1\\xd1\\xaa{T\\x82\\x16]\\x1eQ\\x9fk\\xa7\\xb0\\xd9\\\\O\\x93\\x1b\\xe8a\\xcb\\xe1\\xd0\\xa6N\\xc3\\xb1e\\xca\\xecGj\\xe6\\xf6\\x01>\\xc5tR;\\xd1dK\\x93\\xbc\\x8e\\xde9\\xecc\\xad\\x91\\x9bW\\'\\x9c\\xd9\":\\xeb\\x08\\xb6\\x10\\xa4\\xc5\\x93\\x94\\xd3D\\x19K\\xd2\\xdaO\\x84m\\xd3a\\xe5\\x19\\x1b\\x99\\xcf\\xaa\\x92\\x14\\xf5\\xbc\\x9d\\x1e\\x1e.\\xf3M\\x90Y\\x9d\\xa1\\xc2\\x8f\\x0c\\xbd\\x19\\xc3/GS\\x84\\x9c\\xd2\\x8f\\xb7\\x97\\xa0\\xe1\\x97\\xa2\\x88\\x9e\\xd4\\xfe\\x19z7\\x86^\\x80\\x90\\x1a\\x9f\\xc3/F\\xf0\\xcb\\xd0\\x19<\\x148e\\xe8\\xaf\\n\\x02\\x11\\x9aS\\xe1M\\xf0\\xa6D\\x92\\x947\\xc3/D\\xf9\\x8d i\\xa9<k8\\xd5\\x83\\x0b\\x9d\\xe3V\\xd5 a\\x89:\\xac\\xd52DjF\\xa8\\xd54\\x99i\\xedQ\\xa0\\r4\\xf6\\x9b\\xa0J\\xc5Ni]\\x03i\\xe3z\\x1a3y\\xce\\xd6\\xdc\\'m\\xbbx\\xff\\x00\\xa7\\xb7\\xf9(\\xedn\\xc4\\xcd\\x9d/\\xd2\\xbf%\\x1d\\xad\\xb4\\x05\\xcb\\xf4\\x7f\\x94\\xd6\\xed\\tr\\xfd\\x0f\\xccN\\xda\\xdbA\\\\\\xbfJ\\xfc\\xc4\\xcd\\xad\\xb4&\\x97\\xe8\\xff\\x0013chh\\xf6\\xc8\\xe8\\x97\\\\\\xfdL\\x89\\xbc\\xd9\\xcd\\xccr\\x83\\x94m\\xae\\'O\\xccss\\x1c\\xa39C\\x0e\\xa7\\x9f\\xd5^\\x7fW1\\xca7\\x94I:n\\x7fU\\xb9\\xfd\\\\\\xc7(\\xdeP\\xcd\\xd3\\xf3\\xfa\\xad\\xcf\\xea\\xe69F\\xf2\\x85\\xa6\\xe9y\\xfdW\\xe7\\xf5\\xfc\\xdc\\xc7(\\xbf8\\xa0\\xea9\\xfd\\x7f5\\xb9\\xfd\\x7f7=2\\x959:en\\x7f_\\xcd~\\x7f_\\xcc\\x90t\\xb4\\xf0\\xa7\\xcf\\xeb\\xf9\\xa3\\xdb\\xbf\\x8f\\xfe\\x98\\x03C\\x9c\\xcb\\x1d]\\xfa\\xaaQ\\xf2t$!\\xa4?Pt\\x9a\\xab&\\xe8\\x87\\x0e\\xb6\\x19\\xa5\\xe2\\xec#\\x9e\\x9aN\\xd9\\x90\\xaef\\x97\\xedF\\xedIN|\\xfe\\x94\\xbd\\xa9\\xf0\\x95\\xb4qs\\xa95\\r\\xb0\\xda\\x92\\x8d\\xbf\\xc4\\xf4\\x7f\\x1fG\\x9cN\\xae\\xeeg\\x8c\\x9dZ\\x14u;\\xfe\\xee\\xb3\\x7f\\xdd\\xd7?\\xee\\xe3\\xea\\xb7\\xb9\\x8f\\xab\\r\\xae\\xdc\\xe4\\xbd\\xbf\\xee\\xe8\\xfc\\xff\\x00:\\x83,\\xbd\\x12\\x19mk\\xf9\\x893\\xbf\\xaf\\xe7J\\x1aW\\x08Z\\xd3\\xbe<\\xee\\xa3\\x9a\\xb3^\\xbf\\x9dB\\xfe\\xf5\\xa5\\x0c\\xefr[\\x9a\\xdf\\xb7T\\xe6c?\\xbdj\\x15\\xbf\\xdd\\xd4\\xe25t\\xef\\xd3\\x82\\xcf\\xb3\\xbc\\xbf\\xbb\\xaar\\xfe\\xee\\x93\\xefd>s\\xd43,\\xf2\\xfe\\xedN_\\xdd\\x91\\xb9\\xcfUyOS\"\\xd7/\\xee\\xc7/\\xee\\xc8\\xbc\\xa7\\xaa\\xbc\\xa7\\xa9\\x02\\xdf/\\xee\\xd5\\xe4E\\xe5=U\\xe5=L\\x8b\\x1c\\x9b\\xc8\\x8b\\xcaz\\x8eS\\xd4\\x8c\\xb3\\xc9nDNS\\xd5\\x9c\\xa7\\xa8\\xd0\\\\\\xe4\\xb7\"\\x17(\\xb7)\\xeaZ\\x0b\\xbc\\x87\".\\xe1\\xf1\\xa6R\\xe4\\xceD\\xe0\\x9d,(r\\x1c\\x89\\xc0i\\xe3\\xcav7L\\x87S\\x9c\\xfe\\xdd\\x96\\x1d\\x1cS\\xb7\\xc7\\xa4q\\xf4\\xf49(.d\\xe3\\xcdz\\xc7V6u!f\\xaa\\xb8\\x0b5U\\x81\\xaa\\xe4|\\xbd]s\\x8a\\xf2\\xf5v\\xf2\\xf3\\xfb\\xf0\\x86\\x18\\x1e\\x9b\\xc5h`\\x01\\xadQ\\xa05\\xaa\\xb0\\x82\\xedP\\x03]\\xa6\\xdaa\\xd2x\\xddS\\x92\\xf1\\xba\\x87=n|\\xe1\\x83\\xec\\x9a$Ga<N)\\xe9\\x18\\xf91\\xb2]\\xc2e\\\\\\xe7\\x97\\x1e\\xd7\\xf4\\x8f,\\x8fS\\xf2y1\\xbd;\\xf6\\xd3\\xcb\\x16q!\\xa6\\x9a\\xcd\\xdax\\xe6\\x8d\\xb2\\xe4\\xa2E\\xddO\\xd9&\\xd3{2\\xd2\\x9d\\xa4\\xbeU\\x95\\x05I-D\\xc4\\x18\\xcd\\xa0\\xcak\\xa2\\x1fKE\\xcd\\xaap\\xd0G\\xca\\xea\\x9c\\xff\\x00\\x0f\\xa5\\xff\\x00\\xa4,\\xba\\xa5O\\xb3/\\xacv\\xb8\\t{9\\xb4u\\x9a2z\\xdf\\x87\\xedtnS\\xc3\\xf6\\xba\\x87\\x89}}G>B\\x94\\xcec\\xd57\\xdd\\xc7]\\\\\\x8e}\\x1c\\xea\\xa5M\\x8e\\xc7{b\\xb1\\xaegSH\\xd4\\xacG\\xcb\\xab\\xd3\\x9e<N\\xbd y>\\xda\\xf3\\x97\\xa3\\xe7\\xf6\\xd7\\x9b\\xb6\\x8e:ocj\\x86\\xac\\xd6\\xd8\\xda\\xa0\\x13v\\xcd\\xaa\\x01\\xb7cj\\xb0\\x89}\\x8d\\x9b\\x00\\x1c\\xda\\xfb0\\xd0\\x0b~;\\xf8\\xa3\\xbfy\\xc6\\x1dc\\xd1\\x98V\\xb1\\xa0\\x06-\\x80\\x00\\x07\\x91\\x80\\x1e\\x83\\x88\\xe3\\xab\\x8eU\\xd4\\xc7\\x17OO\\x94\\xb3\\xa6\\x0f<\\xd7\\xaaQ\\x87\\x8cD\\x84\\x9bVb\\xc0\\x96\\x00\\x11\\xaa\\xe0\\xfc\\x9d]\\xe3\\xcf3\\xea\\xef\\xe5\\xe6\\xf6N\\n\\xb5\\xe8\\xbc\\x86\\xaa\\xb0\\x00\\x06\\x03\\r`a\\x1a\\xedU\\xa4A\\xa1\\xd0\\xe3\\xe1\\xcf.\\x90\\x1a\\xde7HY\\xc3\\xf6\\xd9N\\xb6:\\x1f\\xe3\\xfe\\xac]N--\\xdb{\\x13\\xf5J\\xe5\\xa5\\xc9\\xac:\\xb8\\xe2f6\\xf4\\x86/\\x83?O\\xfe\\xbao\\'\\x97Z\\xd3\\x98\\xc7\\xcd\\x97.\\xeb\\xc1\\xa7}\\xab\\x8fW?\\x96:\\xafL\\xb9tr\\x1ei:\\xca0\\xdc\\x93\\x19\\x0e8\\xdd\\xc4\\xc3\\xbaY\\x1fUl\\xcf\\xf6j&\\x8f\\xe9M\\x0e\\x84M0(\\xa1\\xd9\\x15\\x13[I\\x900J\\x89\\xe6\\x12\\x19\\xb4U\\x7f\\x86\\x17\\xb0\\xc6^\\xa6\\x87\\x9b\\x95\\xb1\\xfb3\\xff\\x00_\\xf2\\xf5\\xce\\x1e;>\\xc9\\xfe\\x84\\xc3\\x1c{\\xf1\\xd6\\xfe:\\xc7s\\x8d\\xe1\\xba\\xaa>\\xa4\\x9d\\x1ee\\xe6\\xfd\\xbd\\xb7\\x96\\x13\\xeb\\r\\x06\\xbc?k\\xa8$x\\xf0\\xcb\\t\\xde\\x15\\xde-\\xf5\\xf4|\\xf8f\\xcd\\x90\\xf5\\xaa\\xe8Us:\\xd7T*\\x0c\\x11\\xf2\\xeaV$e\\xd5\\xe9\\xcf\\x1e/^\\x91s\\xe9^k^\\x97\\x97J\\xf3Z\\xde8\\xa9\\xa65\\x8d\\x99\\x05VT\\x80\\n\\x82 \\xaa\\xca\\x83\\x004\\x10\\x00\\x11\\xa7\\xe3\\xd6=)\\xe68\\xf5z\\\\eZC\\xa1\\x81\\xce\\xd9\\xack\\x00y\\x18\\x01\\xde\\xe2?\\x1dK\\x9a\\x8e\\x99\\xc5\\xd3\\xd6\\xe4\\xf9\\xf3\\t/=\\xe9\\'C\\xe6\\xcf\\xa4\\xc2\\xe0\\x00\\x15\\\\j\\x9aL\\xbc\\xe3.\\xae\\xfa\\xd7\\x9f\\xde\\xae\\xee^o_\\x08\\xc1\\xacw\\xbc\\xa0\\x18\\x0c\\x00\\x18\\x03@X\\x94\\xc7S\\xe3\\xf0\\xe5\\x9f\\xe9\\x1d\\x0f\\x8b\\xc3\\xae\\xf9~OH\\x8c5\\xd1!7\\xc7\\xe1\\xc7\\x0f\\x87e\\t\\x89\\xdb`\\xec))\\xb4\\r\\x92\\xeeM\\xd9\\x94\\xeezy\\xbd\\xc9;,\\x9c^U\\xd5\\x1e?\\x7f\\x072\\xbb%c\\xf7\\x1cC\\xc7\\xad6\\x8fL\\xedd\\xdb\\x95\\xce\\xce\\xf3\\xfb\\x17\\x99I\\x8fw\\x1dn\\xeaZ$\\xce\\xc9\\xc8:WllT\\xbf\\t\\xab#m)\\x83\\xb9Tm\\xc4\\xc2m\\x8a&\\xee%\\x92Sa\\x92a\\xc3\\'Y\\xa8\\xea\\xe6[\\xb5\\x11\\xd2\\xdc\\xbf\\x87^\\xaed\\xad+x\\xe1\\xe8\\xa1\\xe2\\xf2\\\\/{\\xb8\\xea\\xe7\\x93\\x95y{\\xad\\xf1\\xfc\\xfd\\x1b\\x07q/-z\\x156\\xe6q\\xba\\x95#\\x1a\\xeay\\x1d{\\x1d\\xae\\x8d\\xf1\\x9e\\x86eKp>\\x89\\x17\\x84&\\xdf\\x1f\\xa1y\\xa9\\xc8\\xd7k\\x87\\xb2\\xc4go\\\\\\xfeX\\xbc\\xdb\\x1e\\x84\\xe8\\x8cJ\\xc8\\xa7{9\\xfc\\xb2\\xfa\\xfeN\\xa9\\xe3\\x8b\\xafQ2\\xe8\\xf3J\\xef\\xeeSN\\n\\xba\\x1c(\\xe0\\x06\\x8c\\x95Uu@T\\x00@\\x00\\x0c\\x80\\x00\\x8c\\x00\\x00=:\\xbd2ty\\x94w\\x92\\xf6eW\\n\\xeb m)\\xce\\xdc\\xe8\\x00\\x83\\xc8\\xc2N\\x86\\x9d\\xeel;\\x8fWHI\\xd6\\xa9Y\\xe7\\xd7\\xaf\\xcaC\\xa9\\xc7\\t\\\\\\xc3\\xd0\\xb0\\xe9\\x18\\xc6\\xb5\\xb3\\xc7\\x12\\xb8B\\x8a\\xcd\\x9c[P\\xb8\\xc6\\xea%(\\x12\\x8d\\xa4Z2\\xcab\\xe0\\xf2\\xf2Z\\xa4 \\xe5\\xf2C\\xe0R\\xd9\\xa6\\xecP\\xf8~\\xa3\\x87\\xea\\x9c\\x16H\\x1e\\xdf\\xeao\\xdb\\xa5f\\xec\\x11\\x07\\x853\\xc6\\xfa:m\\xad\\xb3\\x18\\xe55}\\x1e\\x95\\xe2\\xf1\\xf0\\xefz\\xa5\\xe3\\x8e\\xbb\\x96\\x18\\xba$MK&\\x1e\\xdb\\x17Il\\xe6\\xc9;5\\xb5\\x04\\xdbH\\xb6\\xabi&\\xd0\\x94L\\xab\\x91\\xb7t\\xad\\x95\"\\xc7lx\\xbdzqLz\\xabY\\x8fU5O\\xcf\\xe3\\xe8H)e\\xd2\\x7f\\xb4(\\x14\\x9c\\x83z\\xd2\\x99>|\\xaa\\xf8\\xe3\\x9e\\xd4itX\\x94\\x9ff\\xd1\\xba9^\\xb1_h\\x88\\x9b5\\xb0i\\x87I\\xfb[`\\x16\\xa1\\xc2O!\\xbd\\x91\\x94vh\\xd4>\\x90\\xba\\xbbT\\x9e\\xda8\\xfa*\\xde\\xae\\xab\\xc5\\xd7\\xfd9\\xdc~]W\\x8f\\xe7\\xe9[\\x02\\xcc\\xfbh\\xc1K\\xf6\\xd51u\\xfcW\\x91\\x7f\\xae]\\\\\\xa9\\x9b!\\xec\\xf6\\xde#\\xeb\\x0b\\xdb_d=\\xad\\xb5\\x91[h\\xdbA\\xda>\\xd0\\xa5\\xb2\\x92\\xa2\\x9d\\xd8HA\\xb8c~\\x1c~_\\xb7\\x97\\xa5w\\xe6\\x8bY\\xe3\\xc0l\\xd5\\xd29g9\\xf8\\xaf\\xd4\\x9b\\xa7\\xa2\\xf3\\xd1\\xd8\\x7fJ\\xe8\\x11\\x96\\x1d\\xd2\\xda\\x04`\\x1f\\xd2\\xa4\\x0c\\x03\\xad#6\\xc3\\xban\\x8c2uvs\\xa3\\x93\\x91\\xd3\\xce\\x8c\\xaa\\xd3\\x92\\xe2\\nDs\\xb7(.d\\xe1\\x07\\x9ch\\xee\\x93\\xbd\\xbc\\xfd\\x0e\\xfbY\\xfa:\\xd8\\xea2\\xfb*\\xcf\\x0eN\\x8axY:% \\xc7\\xa2\\xe0K\\xf6\\xa1s\\x176:m\\xd2\\x82\\xcc]nchv\\xeam5\\xc0\\xf9\\xf2\\xf82s\\xb9\\xe5\\xca\\x93TU\\xbb\\x15\\xd5\\x0c0\\xb3Th \\xaa\\xca\\x83]\\xd4a\\x8f\\xcd&a\\x8e\\xfb\\xba\\xe6Ma\\xe1\\xb3&\\x99:R\\xf6\\xcd\\xa0)\\xb2\\x05=\\x98\\xda\\x0e\\xcc\\xec\\x1aV\\xc9\\xf4!\\xd3J\\x06HP\\xeeC\\xe1\\xe8\\xbc\\x1fj57\\x8fU\\xea\\x98\\xf5\\'YO\\xac\\xb3\\xd3\\xb99\\'z\\xc8\\xe6S@\\x8f\\x93gZR\\xf8@\\xf9_\\xc3\\x8a\\x7fG\\x14]W\\x0b\\xdcB\\xb8\\x99\\xe2Tj\\x93\\x84\\x9e4\\xe6\\x8a\\x0b\\x03\\xc4}$\\xae\\xd4\\xa9UVT\\x8c\\xcd\\xe8\\x8c+c\\xae<\\xce\\x9d\\x16=\\x1dW\\x8ev\\xbfG1::\\xdc:_\\xa3CK\\xbfmC\\xc4\\xa1\\xfe4\\x93\\x1dO#\\xaf\\xea\\x16\\xb6\\xdd\\x93\\xb6\\xa6\\xde\\x13\\xeb\\x8a[\\x1b$\\xed\\x9b#+\\xecl\\x91\\xb5\\xf6`\\xa5\\xb3\\xdb%l\\xe8\\x05\\xa8\\t\\xfbL$\\xbc\\x93\\xcb?\\x15s]\\xde\\x81\\xe4\\xfb\\xa9)\\xdc\\xf3\\\\\\x8fuu]hh\\x97\\x1b\\xdd\\x7f\\xc4\\xebV2r\\xfd\\xd7\\xd5t\\x95\\x89\"\\x12V\\xa1EbZ\\x16\\xa1\\xddC\\xcddfu\\x12\"\\x886\\xd8\\x86\\xa5m\\xa4\\xca@\\x89[^#]\\x1e\\xd2\\\\\\x8e\\xeaL\\xca\\xa3\\x15\\xafe\\xe2\\xde.c\\xf90\\x7f&7\\'M\\xa5\\x1c\\xcf\\xf2!\\xbf\\xe4D\\x07K\\xb1\\x8b\\x9d\\x9ey{\\x16\\xa5\\xd3*\\xd9\\xd0h\\xff\\x00\\x175\\xfc\\x89\\x1b\\xfc\\x88\\x7fD\\xe8,\\xd4\\xdb\\xc22\\xbb\\xb6\\xbd\\x03\\xcb\\xe7\\xde:\\x9f/1S0\\x00\\x06\\x18\\xd6\\x194\\x06\\x80\\xc3\\xd2n\\x99txM\\x12\\x8b2i$\\xc3\\\\\\xce\\xb5\\x91\\xc21\\x00a\\x86\\x88\\xd6UU@]\\x14\\xe9\\x86\\xb1\\xcfnB]J\\xaa\\xce\\xab\\xbb\\xde?$\\xda\\xd9\\xd5J\"]G\\xb2\\xeaS\\xc7\\xbc\\xd1?%\\xf1\\xba\\xa1I\\xf3\\xe6\\x13\\xea}\\xed\\x93/\\xfc\\xad\\xc5\\x7f\\xf5\\x01d9\\xdb\\xb2S\\x89\\xecO\\xb6\\x86\\x04\\xb6]\\xaa\\xb4\\x1a\\xcb*\\xb1\\x06\\x1aX\\x9bj\\xd0m*\\x19Lv<\\x8fic\\xd1\\xdaa\\xd2\\xb8o\\xf2\\xfa;\\\\zSnP\\x9d)\\x06\\x17c\\x9ft\\xc7\\x91\\xdf\\xc2I\\x90\\x8e\\xf1\\x9fQ\\x17a\\x95Y\\xb4J8\\x84p\\x8d=!\\x00\\xf8\\t\\xe5Y{\\x10\\x8f\\xca\\xb4\\xa4\\xdf\\xdb\\xdc\\xfb\\xefD\\xaf\\xe3e\\xeb\\xff\\x00\\xc7\\xa1\\xe1\\x91_s\\xd5\\xd8\\xe1y,\\xfd\\xb5\\xbf\\xe5\\x0f\\x7f\\x13/\\xfdGm\\x97\\x93\\x19\\xfa\\x92\\xaf\\x9a\\xfe\\x8b,s\\x7f\\xc4\\xcb\\xd63\\xf8\\xb9\\xff\\x00\\xea\\x15\\xbd\\xec\\xbdQ\\xfd\\xdc\\xbdRxO\\xfe.~\\xb0\\xdf\\xf1s\\xf5\\x89\\x9e\\xee^\\xb5\\x1f\\x9d\\xf5!\\x88_\\xc7\\xcb\\xff\\x00X\\xa1_\\r\\xff\\x00\\xd4(r7\\xb4\\xe8\\xc2W\\xb5}b_\\xb7\\x0f\\xedi\\xdc\\x94T\\x96O\\x82\\x94\\xc7\\xc7\\x9fX\\xe7uI\\x96\\xd8izW\\xf1\\xfc~\\x8b\\xff\\x00\\x1f\\x0fB\\x7f\\x83\\xcbr\\xfc5\\xe8\\r\\x12\\xe4}\\x8f\\x1f\\xa2\\xde\\xc6\\x1e\\x8e\\xb0\\x03\\xc7\\xca\\x1aH\\xd1\\xedk\\xaa\\x0eY\\xec\\x92s\\xb37\\t]\\xcej\\xa4\\xca\\x9c\\xf4\\x9b\\xefRf>;\\x95\\xd3\\xa7\\xfe?\\xea\\x959\\xbfr\\xd5\\xb1\\xc9\\x1f<x\\xd2HK\\xab\\xa6\\xd1\\xa2J[\\x00\\x01\\x90\\x00\\x1aCX\\xb8\\x07\\xa4\\xddud\\xccaA\\x83t\\x85M\\x1ad\\xd9s*\\x9b\\x01\\xaa\\x06$\\xd5T5D\\x10\\xeaZ\\x05wr\\xf2;\\xab\\xce\\x8b\\x9c\\r\\x04\"Ucj\\xb04N\\xc9\\x02\\x15)<\\x19g3s\\xbfd\\x9b\\xff\\x00P\\x91\\xd2\\x84)b\\x1c\\xa5\\xfe\\xbfR\\x15\\x87\\xeb\\t\\x7f)\\x0b\\x92\\xf6\\x99\\xb7#\\xd7L\\x06\\x98\\x86\\x87\\x94G\\xda\\x0e\\xd4\\x94\\x9bL\\xc6\\xc8\\x9f&\\xddO*\\xddd\\xf59\\x89\\xabR\\xf1\\xe8\\xa5%\\xce\\xb5\\xd9\\xe1\\xd2\\xff\\x00\\xa7\\x1b\\x8b\\xb5\\xc7\\xa5Q\\xa6\\xce\\xa4\\x0b\\xd4\\xb4N\\xcf\\xeen\\xf3\\xbb\\xf0\\xc29\\xf3\\x0f6\\xfa\\xf5\\xf8\\xf2\\x19Q\\xa6\\x9c\\xae\\xf3\\x87Q\\xcf\\x03I8`\\xe04\\x83\\xc8g@^\\xdb\\xf1Y\\xca\\xb0\\x81\\xcb\\xbe\\xa7WC\\x02\\xf9\\xac\\xf7\\x87^\\xceFg\\x94\\xbb-\\xe7\\xe4\\xbeMr\\xd7oF\\xce}&\\xdf\"\\x1f\\xb9V\\xfc>\\x8d\\xdc\\xf4#\\xfb\\x1c\\xdd/\\x8f,/\\xdd\\xb77\\xcb\\xf4\\x1b\\x04\\xf5\\xbb\\xe3\\xf1\\xd9\\xdb\\x7f\\x9b\\x85\\xcfS\\xb7\\xcf\\xd4\\x81\\xc9M\\x96\\x83\\xfbZe\\xa4\\x15\\xc6\\x8ct\\x9e\\xfd\\xd6\\xa62~\\xaev\\xdb{\\xda\\xb2\\x15\\xef\\xd9-\\x1do\\x879\\x86\\xeb\\xb4\\xfeDy\\x96\\x9b\\xa6F\\xf5\\x0f\\xe4F\\xfb\\xf1\\xe6Z[T)\\xc9e\\x96\\xc4\\x84\\xd3\\xdbu8\\xca\\xab\\x126\\xb6\\xd2\\xb7i\\xe2\\xfb\\x9e\\x87z<\\xd3\\xc1\\xf7=.\\xb0\\xad\\xdeQ\\xe5\\xea\\xe6\\xfeK\\xf9\\xf5\\xa4WC\\x992&\\x13\\xce\\xa5il0\\xc2Y\\xf5\\xd1V4\\xa5$\\xce\\xe4\\xf2\\xd6\\x10\\x19]]\\xaa\\x8a\\xe5u\\xa6\\x196\\xa1\\x19\\xc5L\\x9a#HWh\\xdbG\\xd9\\x84\\xdd\\x9d%m0\\x12b\\x1c\\xefR>\\x06?5\\xe9\\xcf\\x1f;~\\xfaeY\\x19!.\\xf2EEN\\xa8$\\n\\x88I\\x10\\xd50W\\xbd\\x7f\\xd17.\\xa5\\t\\xde}\\x11\\xf2\\x04\\x8b\\xd13\\xaa\\x1f\\xc3M&,\\xf5A\\xd1oj\\xea\\x1b\\x0f\\xb9\\xe1\\x0f\\xba\\xbd\\xca\\xfa\\xfd[\\xa4\\xb5\\xdaH\\xd5J\\x917P\\xee\\xfd\\r?u\\x9a\\xf5e\\xa6\\xcc\\x93DZ^\\x9d\\x08\\x13\\xab\\xa3\\xbd\\x14c\\x17g\\x87\\xcf\\xd1\\xc6\\xe2\\xecp\\xf9\\xfa(\\x9a\\xae\\x7f\\x02\\x1d\\xcb\\xed\\x8bs\\xf5\\xe5&\\x1b\\x11G/K\\xff\\x00\\x9f\\x86*\"\\xf4\\x9f\\xb7\\x13\\xdbOH&\\xc4\\xd4\\x1ab\\xe6\\x0e\\x18:\\xb9\\x85\\x81\\xa4\\xb9l\\xf1\\xfc[thy\\xcd\\xc6\\x8c\\xab\\x964\\x03v!eZ\\x83Y`\\xd2\\r\\\\,F\\x17b\\xe4\\x18\\xa6\\x1e\\xa8\\xd9z\\x14\\x16\\x94\\xf5\\x90\\x8e\\x02L8\\x86t\\x07\\x9b\\xb4\\xd2\\xcdX.\\xd3@\\x1b\\xbd\\xfd\\xbfZ\\xf4{\\xd1\\xe7\\xdf\\xb6\\xf9v^K\\xack\\x07K\\xc9\\xf2Gm:\\xe8r\\x98hT\\x94\\x90\\xd3\\x07\\x88\\xda\\xd5@\\x07\\x9dt\\x9a\\x84L&\\xdd\\x13&\\xf1\\x14\\xc1\\xd5\\x18\\xb66\\xa2\\xe6H\\xd4GY\\x1dA\\x86UD\\xda\\x90\\x9eQ\\x84\\x98W\\x8bg\\xe2\\xd4\\xa5\\xd2\\x12gz[\\xafA\\xe1\\xc2EI\\x88T\\xfcd\\xf4\\rdG.R=\\x01h\\x93PS\\xc0Zv*]RJo\\xc0\\x06l\\'\\x14\\xf7\\xa5;_\\xd2\\x82DIDX\\xcd \\xc1\\xd5\\x08\\x06\\x1dn\\x81\\x98D\\xa9\\x08\\x00&\\xe3\\xd4\\xb3Qp\\x89\\xf5H7\\x8b\\xb2\\xc3\\xab\\x99\\x8e\\xa3\\x1d\\xcb\\x1a\\x04H\\x99\\xfe5\\x07\\xe4\\xa3\\t$\\x08f\\xb7\\xe4\\xc5ON\\x1f\\xf9\\xfd[\\x10\\xe9\\x1be\\x1aC\\xaf=\\xf4E9J0\\x83\\n\\xd1*+\\x1cD<\\x85$,e\\xa0\\xcf\\x1f\\xea\\x88\\x94ip\\xd6j\\x99-y\\'rSv\\n\\x1cj\\xc1!v4)e\\xd5:\\x90\\x1a\\xd4L\\xae\\xa1\\x1a\\x0e\\xfb\\xed+h\\x0b\\x99&\\xec\\xee\\xc9\\xeb\\x91\\x956\\x7fd\\xd4\\x92\\x0e0\\x05\\x9d\\x8e0a$\\xc2M\\xe9_\\xb6\\xe9J~{\\xdbD\\xbf\\xdb\\xf47\\xe5\\xbb\\xac\\xfeZ|8\\xcf\\x94\\xc4)\\xd5%\\xaa\\x01\\xa3\\xc6\\xd2j\\x1fE:\\r!\\x80\\xa7\\x84\\xdd%\\x17\\xf1\\x9a\\x89\\x15\\xa6\\xdc\\xce\\xb3\\n\\x1d2\\x836\\x8eq\\x14\\xc1\\xa4u\\xcd\\x19\\x18\\xa4\\xdaP&\\xd6\\xcc)^\\x15\\xc9\\xf8\\xa5u\\xae\\x88\\xf3{\\xbf\\x05,}R\\xd9\\xd2(\\xd0\\xe12\\xad\\x1bQ\\xa2Z\\xa6RE+\\x93h44\\xb8\\x86\\xb9\\x1azJ!\\xe3%\\x90\\xeaa\\xa0\\x16\\x97\\x97j\\x8b\\xd1R\\x9f\\xdd?_\\xf9\\x06\\x88\\x18\\x92dmS\\xa8\\x14\\x11\\x9aa\\xa7d\\nts\\xa0<\\xb4\\x9b\\xabd\\x9d\\x8fn\\xee\\xab\\xc7\\xde\\xeb\\xd5\\xcf^\\xbfGA\\xe2\\x9b\\xc8(\\x8fz\\xd3\\xd0\\xff\\x00\\x92Y\\x951\\x14D\\xac\\xfbRu*g\\xde\\x11:\\xc1\\xecy\\xdetN\\xa4:U$d\\xf3\\x9fD\\x95\\np\\x91\\nq\\n)%\\x93\\xd2\\x99\\xb4Ii\\xb6\\x83>}\\r(\\x126sq\\xcd;N\\xb1\\xc5\\xd6\\xac\\x98\\xb2\\x8b-\\x9a\\xcb\\xa8u&\\xd5\\xd5\\\\\\x8dg?\\x95\\xeeZ\\xb7Q\\xcd4\\x88_k\\xec\\xce\\x99\\xa5!#gv\\x83\\xa6\\xe8\\x02\\xb6\\xd2\\xf6@:\\x8cV\\x93\\x95]*c]\\x0edc\\x0e\\x8f\\xdb\\xf5)LdB\\x92\\xbcW\\x8e$\\xdc\\xad\\x85e\\t\\xa1\\x17\\x8e\\xa26\\xab\\xa3\\xda\\xbb \\xe7\\x14t=\\x91\\xfb\\x18 \\xaaS\\xb8\\xa2\\xf1\\t\\x0e\\xbf\\x19\\xa8@\\xc3\\x1e\\xee\\x9d\\x93\\xa2\\x1c4\\r\\xb0t\\x04e\\xd1L\\x1bGi\\xa3J\\xa6V0i6NL\\xa6\\xf4\\xe8sR\\xf4\\xe8\\x9f\\x8f\\xaa\\x0c,\\xba\\x1eg\\xb5J\\xb1\\xaa!;\\x0c\\xd2yJ\\x92@+\"\\xd3\\x91\\x94\\x815U\\xcd\\x03>\\x94\\x80\\x90a1@\\x08#\\xb6]V\\xaadT\\xb3\\xe7\\xd5\\x1d2w\\x96\\x11\\xc1,\\x88\\xb9\\x80\\xa5\\nx\\xce\\xe4\\xe2\\xee&E4\\xdc:\\x93K8t\\xca\\xfe\\x8aA\\x98\\xec<?s\\x8f\\x8e\\x97\\xc3\\xf7,\\x92\\xbc\\xfdc\\x9ft~n\\xb1\\xccJ\\x937\\xfa9\\xb2\\xa4\\xeaL\\xcf\\xae\\xcd\\xcf\\xd4&\\xd2VEzE\\xc9\\xc7^\\x877b\\xd0\\xa4K\\x85\\x06n\\x94\\xf4\\xb2r[\\x16\\xc9\\xe7Q\\xd2H\\xda\\x94`\\xeaBS\\x94\\xcewt\\xc4\\xcc\\xe3FNup\\xb3f`\\xe2\\xa7\\x92\\x01\\xd5\\x16 L\\xca\\x92\\x13*3\\xa1\\xce\\xc0\\xb0h\\x80\\x00\\x00\\x00\\xd3\\x0f\\xff\\xd9'"
      ]
     },
     "execution_count": 14,
     "metadata": {},
     "output_type": "execute_result"
    }
   ],
   "source": [
    "tf.io.read_file(processed_Data['path'][5]).numpy()"
   ]
  },
  {
   "cell_type": "code",
   "execution_count": 116,
   "id": "b91e63ad-01bf-4792-aa85-ffbd8502749d",
   "metadata": {},
   "outputs": [
    {
     "data": {
      "text/plain": [
       "<tf.Tensor: shape=(480, 640, 3), dtype=uint8, numpy=\n",
       "array([[[194, 181, 188],\n",
       "        [194, 181, 188],\n",
       "        [194, 181, 188],\n",
       "        ...,\n",
       "        [188, 182, 196],\n",
       "        [188, 182, 196],\n",
       "        [188, 182, 196]],\n",
       "\n",
       "       [[194, 181, 188],\n",
       "        [194, 181, 188],\n",
       "        [194, 181, 188],\n",
       "        ...,\n",
       "        [188, 182, 196],\n",
       "        [188, 182, 196],\n",
       "        [188, 182, 196]],\n",
       "\n",
       "       [[194, 181, 188],\n",
       "        [194, 181, 188],\n",
       "        [194, 181, 188],\n",
       "        ...,\n",
       "        [188, 182, 196],\n",
       "        [188, 182, 196],\n",
       "        [188, 182, 196]],\n",
       "\n",
       "       ...,\n",
       "\n",
       "       [[ 30,  34,  43],\n",
       "        [ 30,  34,  43],\n",
       "        [ 30,  34,  43],\n",
       "        ...,\n",
       "        [ 47,  49,  62],\n",
       "        [ 47,  49,  62],\n",
       "        [ 47,  49,  62]],\n",
       "\n",
       "       [[ 30,  34,  43],\n",
       "        [ 30,  34,  43],\n",
       "        [ 30,  34,  43],\n",
       "        ...,\n",
       "        [ 47,  49,  62],\n",
       "        [ 47,  49,  62],\n",
       "        [ 47,  49,  62]],\n",
       "\n",
       "       [[ 30,  34,  43],\n",
       "        [ 30,  34,  43],\n",
       "        [ 30,  34,  43],\n",
       "        ...,\n",
       "        [ 47,  49,  62],\n",
       "        [ 47,  49,  62],\n",
       "        [ 47,  49,  62]]], dtype=uint8)>"
      ]
     },
     "execution_count": 116,
     "metadata": {},
     "output_type": "execute_result"
    }
   ],
   "source": [
    "jpg_to_tensor(processed_Data['path'][5])"
   ]
  },
  {
   "cell_type": "code",
   "execution_count": 103,
   "id": "85d08a6f-cded-49b1-a962-182b7ab7f86f",
   "metadata": {},
   "outputs": [
    {
     "ename": "NameError",
     "evalue": "name 'jp' is not defined",
     "output_type": "error",
     "traceback": [
      "\u001b[0;31m---------------------------------------------------------------------------\u001b[0m",
      "\u001b[0;31mNameError\u001b[0m                                 Traceback (most recent call last)",
      "Cell \u001b[0;32mIn[103], line 1\u001b[0m\n\u001b[0;32m----> 1\u001b[0m \u001b[43mjp\u001b[49m\n",
      "\u001b[0;31mNameError\u001b[0m: name 'jp' is not defined"
     ]
    }
   ],
   "source": [
    "jp"
   ]
  },
  {
   "cell_type": "markdown",
   "id": "fcc109eb-20a1-484d-98b1-60b528735fd2",
   "metadata": {},
   "source": [
    "# Hypothisis"
   ]
  },
  {
   "cell_type": "code",
   "execution_count": 60,
   "id": "be3004c2-84b5-47c8-8f88-31bca6c85956",
   "metadata": {},
   "outputs": [],
   "source": [
    "def list_record_features(tfrecords_path):\n",
    "    # Dict of extracted feature information\n",
    "    features = {}\n",
    "    # Iterate records\n",
    "    for rec in tf.data.TFRecordDataset([str(tfrecords_path)]):\n",
    "        # Get record bytes\n",
    "        example_bytes = rec.numpy()\n",
    "        # Parse example protobuf message\n",
    "        example = tf.train.Example()\n",
    "        example.ParseFromString(example_bytes)\n",
    "        # Iterate example features\n",
    "        for key, value in example.features.feature.items():\n",
    "            # Kind of data in the feature\n",
    "            kind = value.WhichOneof('kind')\n",
    "            # Size of data in the feature\n",
    "            size = len(getattr(value, kind).value)\n",
    "            # Check if feature was seen before\n",
    "            if key in features:\n",
    "                # Check if values match, use None otherwise\n",
    "                kind2, size2 = features[key]\n",
    "                if kind != kind2:\n",
    "                    kind = None\n",
    "                if size != size2:\n",
    "                    size = None\n",
    "            # Save feature data\n",
    "            features[key] = (kind, size)\n",
    "    return features"
   ]
  },
  {
   "cell_type": "code",
   "execution_count": 62,
   "id": "1dbeadbd-1618-4f55-a08d-9c9f9ac5ea16",
   "metadata": {},
   "outputs": [
    {
     "name": "stdout",
     "output_type": "stream",
     "text": [
      "('objects/bbox', ('float_list', 4))\n",
      "('objects/is_crowd', ('int64_list', 1))\n",
      "('objects/label', ('int64_list', 4))\n",
      "('objects/id', ('int64_list', 1))\n",
      "('objects/area', ('int64_list', 1))\n",
      "('image/filename', ('bytes_list', 1))\n",
      "('image/id', ('int64_list', 1))\n",
      "('image', ('bytes_list', 1))\n"
     ]
    }
   ],
   "source": [
    "features = list_record_features(\"daisee.tfrecords\")\n",
    "print(*features.items(), sep='\\n')"
   ]
  },
  {
   "cell_type": "code",
   "execution_count": null,
   "id": "271922e3-c5ec-44be-bcea-f6106bcf16da",
   "metadata": {},
   "outputs": [],
   "source": []
  }
 ],
 "metadata": {
  "kernelspec": {
   "display_name": "Python 3 (ipykernel)",
   "language": "python",
   "name": "python3"
  },
  "language_info": {
   "codemirror_mode": {
    "name": "ipython",
    "version": 3
   },
   "file_extension": ".py",
   "mimetype": "text/x-python",
   "name": "python",
   "nbconvert_exporter": "python",
   "pygments_lexer": "ipython3",
   "version": "3.11.7"
  }
 },
 "nbformat": 4,
 "nbformat_minor": 5
}
